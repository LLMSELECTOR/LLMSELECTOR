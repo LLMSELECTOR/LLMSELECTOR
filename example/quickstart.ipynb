{
 "cells": [
  {
   "cell_type": "markdown",
   "id": "1f6e40cc-4967-43a1-8e2f-f5e3aa912cac",
   "metadata": {},
   "source": [
    "## Config the environment"
   ]
  },
  {
   "cell_type": "code",
   "execution_count": 1,
   "id": "bbcb1a46-4717-4f56-bca6-e682958da54e",
   "metadata": {},
   "outputs": [],
   "source": [
    "import llmselector, os\n",
    "if not os.path.exists('../cache/db_livecodebench.sqlite'): \n",
    "    !wget -P ../cache https://github.com/LLMSELECTOR/LLMSELECTOR/releases/download/0.0.1/db_livecodebench.sqlite\n",
    "llmselector.config.config(\n",
    "    db_path=f\"../cache/db_livecodebench.sqlite\" )"
   ]
  },
  {
   "cell_type": "markdown",
   "id": "5ca36d16-bac3-46d1-ad26-8076d07ef7ec",
   "metadata": {},
   "source": [
    "## Load the livecodebench dataset"
   ]
  },
  {
   "cell_type": "code",
   "execution_count": 2,
   "id": "176500f3-9351-4345-9b21-568171635504",
   "metadata": {},
   "outputs": [],
   "source": [
    "from llmselector.data_utils.livecodebench import DataLoader_livecodebench \n",
    "from sklearn.model_selection import train_test_split\n",
    "Mydataloader = DataLoader_livecodebench()\n",
    "q_data = Mydataloader.get_query_df()\n",
    "train_df, test_df = train_test_split(q_data,test_size=0.5, random_state=2025)"
   ]
  },
  {
   "cell_type": "markdown",
   "id": "504d3b7f-a2f1-43ad-a31f-fb2c342fec45",
   "metadata": {},
   "source": [
    "## Use a single LLM"
   ]
  },
  {
   "cell_type": "code",
   "execution_count": 3,
   "id": "7981a1c1-2e87-4d9d-8ab6-296f42b99e47",
   "metadata": {},
   "outputs": [
    {
     "name": "stderr",
     "output_type": "stream",
     "text": [
      "  0%|                                                     | 0/1 [00:00<?, ?it/s]\n",
      "Processing:   0%|                                       | 0/239 [00:00<?, ?it/s]\u001b[A\n",
      "Processing: 100%|███████████████████████████| 239/239 [00:00<00:00, 2112.99it/s]\u001b[A\n",
      "100%|█████████████████████████████████████████████| 1/1 [00:00<00:00,  6.55it/s]\n"
     ]
    },
    {
     "name": "stdout",
     "output_type": "stream",
     "text": [
      "('gpt-4o-2024-05-13', 'gpt-4o-2024-05-13', 'gpt-4o-2024-05-13')\n"
     ]
    },
    {
     "name": "stderr",
     "output_type": "stream",
     "text": [
      "  0%|                                                     | 0/1 [00:00<?, ?it/s]\n",
      "Processing: 100%|███████████████████████████| 239/239 [00:00<00:00, 2475.55it/s]\u001b[A\n",
      "100%|█████████████████████████████████████████████| 1/1 [00:00<00:00,  8.11it/s]\n"
     ]
    },
    {
     "name": "stdout",
     "output_type": "stream",
     "text": [
      "('claude-3-5-sonnet-20240620', 'claude-3-5-sonnet-20240620', 'claude-3-5-sonnet-20240620')\n"
     ]
    },
    {
     "name": "stderr",
     "output_type": "stream",
     "text": [
      "  0%|                                                     | 0/1 [00:00<?, ?it/s]\n",
      "Processing: 100%|███████████████████████████| 239/239 [00:00<00:00, 2396.69it/s]\u001b[A\n",
      "100%|█████████████████████████████████████████████| 1/1 [00:00<00:00,  7.68it/s]\n"
     ]
    },
    {
     "name": "stdout",
     "output_type": "stream",
     "text": [
      "('gemini-1.5-pro', 'gemini-1.5-pro', 'gemini-1.5-pro')\n"
     ]
    },
    {
     "name": "stderr",
     "output_type": "stream",
     "text": [
      "100%|███████████████████████████████████████| 240/240 [00:00<00:00, 2217.09it/s]\n",
      "100%|███████████████████████████████████████| 240/240 [00:00<00:00, 9242.46it/s]\n",
      "100%|███████████████████████████████████████| 240/240 [00:00<00:00, 2219.86it/s]\n",
      "100%|██████████████████████████████████████| 240/240 [00:00<00:00, 16705.94it/s]\n",
      "100%|███████████████████████████████████████| 240/240 [00:00<00:00, 2100.21it/s]\n",
      "100%|██████████████████████████████████████| 240/240 [00:00<00:00, 11689.13it/s]"
     ]
    },
    {
     "name": "stdout",
     "output_type": "stream",
     "text": [
      "                         Name  Mean_Score\n",
      "0           gpt-4o-2024-05-13    0.862500\n",
      "1  claude-3-5-sonnet-20240620    0.891667\n",
      "2              gemini-1.5-pro    0.866667\n"
     ]
    },
    {
     "name": "stderr",
     "output_type": "stream",
     "text": [
      "\n"
     ]
    }
   ],
   "source": [
    "from llmselector.compoundai.module.selfrefine import SelfRefine\n",
    "from llmselector.compoundai.optimizer import OptimizerFullSearch\n",
    "from llmselector.compoundai.metric import Metric, compute_score\n",
    "model_list = ['gpt-4o-2024-05-13','claude-3-5-sonnet-20240620','gemini-1.5-pro']\n",
    "Agents_SameModel ={}\n",
    "for name in model_list:\n",
    "    Agents_SameModel[name] = SelfRefine()\n",
    "    Opt0 = OptimizerFullSearch(model_list = [name])\n",
    "    Opt0.optimize( train_df, Metric('em'), Agents_SameModel[name])\n",
    "results = compute_score(Agents_SameModel, test_df, Metric('em'))\n",
    "print(results)"
   ]
  },
  {
   "cell_type": "markdown",
   "id": "6a1bf065-1199-4a43-9c9c-f3ad7897aff7",
   "metadata": {},
   "source": [
    "## Optimize model selection"
   ]
  },
  {
   "cell_type": "code",
   "execution_count": 4,
   "id": "c8137c5b-510d-467b-aece-bce8bf6038d4",
   "metadata": {},
   "outputs": [
    {
     "name": "stderr",
     "output_type": "stream",
     "text": [
      "100%|█████████████████████████████████████████| 239/239 [00:03<00:00, 70.26it/s]\n",
      "100%|█████████████████████████████████████████| 239/239 [00:03<00:00, 72.41it/s]\n",
      "100%|█████████████████████████████████████████| 239/239 [00:03<00:00, 68.17it/s]\n",
      "100%|█████████████████████████████████████████| 239/239 [00:02<00:00, 84.95it/s]\n",
      "100%|█████████████████████████████████████████| 239/239 [00:03<00:00, 73.19it/s]\n",
      "100%|█████████████████████████████████████████| 239/239 [00:02<00:00, 87.44it/s]\n"
     ]
    }
   ],
   "source": [
    "from llmselector.compoundai.optimizer import OptimizerLLMDiagnoser\n",
    "LLMSELECTOR = SelfRefine()\n",
    "Optimizer = OptimizerLLMDiagnoser()\n",
    "Optimizer.optimize( train_df, Metric('em'), LLMSELECTOR)"
   ]
  },
  {
   "cell_type": "code",
   "execution_count": 5,
   "id": "78ef77aa-ccda-4d66-9670-82d5570114ff",
   "metadata": {},
   "outputs": [
    {
     "name": "stderr",
     "output_type": "stream",
     "text": [
      "100%|███████████████████████████████████████| 240/240 [00:00<00:00, 2412.71it/s]\n",
      "100%|██████████████████████████████████████| 240/240 [00:00<00:00, 15858.23it/s]"
     ]
    },
    {
     "name": "stdout",
     "output_type": "stream",
     "text": [
      "          Name  Mean_Score\n",
      "0  LLMSELECTOR    0.954167\n"
     ]
    },
    {
     "name": "stderr",
     "output_type": "stream",
     "text": [
      "\n"
     ]
    }
   ],
   "source": [
    "results = compute_score({\"LLMSELECTOR\":LLMSELECTOR}, test_df, Metric('em'))\n",
    "print(results)"
   ]
  }
 ],
 "metadata": {
  "kernelspec": {
   "display_name": "Python 3 (ipykernel)",
   "language": "python",
   "name": "python3"
  },
  "language_info": {
   "codemirror_mode": {
    "name": "ipython",
    "version": 3
   },
   "file_extension": ".py",
   "mimetype": "text/x-python",
   "name": "python",
   "nbconvert_exporter": "python",
   "pygments_lexer": "ipython3",
   "version": "3.9.19"
  }
 },
 "nbformat": 4,
 "nbformat_minor": 5
}
