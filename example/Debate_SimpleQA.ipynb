{
 "cells": [
  {
   "cell_type": "markdown",
   "id": "d93d4cc6-3305-4219-9067-fab3025945ac",
   "metadata": {},
   "source": [
    "## Setup the environment"
   ]
  },
  {
   "cell_type": "code",
   "execution_count": 1,
   "id": "b1f25114-34d7-414e-930b-163c0ac6dd19",
   "metadata": {},
   "outputs": [],
   "source": [
    "from llmselector.data_utils import DataLoader_SimpleQA\n",
    "from llmselector.compoundai.module.debate import MultiAgentDebate\n",
    "from llmselector.compoundai.metric import Metric, compute_score\n",
    "from llmselector.compoundai.optimizer import OptimizerFullSearch, OptimizerLLMDiagnoser\n",
    "import llmselector, os\n",
    "import os\n",
    "if not os.path.exists('../cache/db_simpleqa.sqlite'): \n",
    "    !wget -P ../cache https://github.com/LLMSELECTOR/LLMSELECTOR/releases/download/0.0.1/db_simpleqa.sqlite"
   ]
  },
  {
   "cell_type": "code",
   "execution_count": 2,
   "id": "8b3b57b2-dd4a-4425-886f-87fd9b0cae6e",
   "metadata": {},
   "outputs": [],
   "source": [
    "llmselector.config.config(\n",
    "    db_path=f\"../cache/db_simpleqa.sqlite\" ,\n",
    "    openai_api_key=\"YOUR_OPENAI_KEY\",\n",
    "\tanthropic_api_key=\"YOUR_ANTHROPIC_KEY\",\n",
    "\ttogether_ai_api_key=\"YOUR_TOGETHERAI_KEY\",\n",
    "\tgemini_api_key=\"YOUR_GEMINI_KEY\")"
   ]
  },
  {
   "cell_type": "markdown",
   "id": "50409a61-078e-46b6-9fcf-0f91ee16763b",
   "metadata": {},
   "source": [
    "## 1. Load dataset"
   ]
  },
  {
   "cell_type": "code",
   "execution_count": 3,
   "id": "feb5e552-d563-4734-b0f2-c8009f559b08",
   "metadata": {},
   "outputs": [],
   "source": [
    "from sklearn.model_selection import train_test_split\n",
    "Mydataloader = DataLoader_SimpleQA()\n",
    "q_data = Mydataloader.get_query_df()\n",
    "train_df, test_df = train_test_split(q_data,test_size=0.5, random_state=2024)"
   ]
  },
  {
   "cell_type": "markdown",
   "id": "09f3f8da-d0e2-4159-aed6-1f8eb580ec09",
   "metadata": {},
   "source": [
    "## 2. Specify model and eval metric"
   ]
  },
  {
   "cell_type": "code",
   "execution_count": 4,
   "id": "418e5af1-2e91-4eaa-8ddb-10899c7ea465",
   "metadata": {},
   "outputs": [],
   "source": [
    "model_list = ['gpt-4o-2024-05-13','gpt-4-turbo-2024-04-09','gpt-4o-mini-2024-07-18',\n",
    "              'claude-3-5-sonnet-20240620','claude-3-haiku-20240307',\n",
    "              'gemini-1.5-pro','gemini-1.5-flash',\n",
    "              'meta-llama/Meta-Llama-3.1-405B-Instruct-Turbo','meta-llama/Meta-Llama-3.1-70B-Instruct-Turbo','Qwen/Qwen2.5-72B-Instruct-Turbo']\n",
    "M1 = Metric('em_direct')"
   ]
  },
  {
   "cell_type": "markdown",
   "id": "8f410760-5e66-48f1-9409-98a494029830",
   "metadata": {},
   "source": [
    "## 3. Standard systems using one fixed model"
   ]
  },
  {
   "cell_type": "code",
   "execution_count": 5,
   "id": "47288dd5-46cc-4852-b389-ab510a18fa1d",
   "metadata": {},
   "outputs": [
    {
     "name": "stderr",
     "output_type": "stream",
     "text": [
      "  0%|                                                     | 0/1 [00:00<?, ?it/s]\n",
      "Processing:   0%|                                      | 0/2163 [00:00<?, ?it/s]\u001b[A\n",
      "Processing:   3%|▉                           | 71/2163 [00:00<00:03, 683.72it/s]\u001b[A\n",
      "Processing:   7%|█▉                         | 159/2163 [00:00<00:02, 797.31it/s]\u001b[A\n",
      "Processing:  11%|███                        | 241/2163 [00:00<00:02, 788.64it/s]\u001b[A\n",
      "Processing:  15%|████▏                      | 331/2163 [00:00<00:02, 819.50it/s]\u001b[A\n",
      "Processing:  19%|█████▎                     | 421/2163 [00:00<00:02, 832.67it/s]\u001b[A\n",
      "Processing:  24%|██████▍                    | 511/2163 [00:00<00:01, 841.62it/s]\u001b[A\n",
      "Processing:  28%|███████▌                   | 602/2163 [00:00<00:01, 860.61it/s]\u001b[A\n",
      "Processing:  32%|████████▋                  | 700/2163 [00:00<00:01, 895.02it/s]\u001b[A\n",
      "Processing:  37%|█████████▊                 | 791/2163 [00:00<00:01, 885.80it/s]\u001b[A\n",
      "Processing:  41%|███████████                | 890/2163 [00:01<00:01, 915.75it/s]\u001b[A\n",
      "Processing:  45%|████████████▎              | 982/2163 [00:01<00:01, 881.11it/s]\u001b[A\n",
      "Processing:  50%|████████████▊             | 1071/2163 [00:01<00:01, 872.91it/s]\u001b[A\n",
      "Processing:  54%|█████████████▉            | 1162/2163 [00:01<00:01, 880.78it/s]\u001b[A\n",
      "Processing:  58%|███████████████           | 1251/2163 [00:01<00:01, 875.49it/s]\u001b[A\n",
      "Processing:  62%|████████████████▏         | 1343/2163 [00:01<00:00, 887.57it/s]\u001b[A\n",
      "Processing:  66%|█████████████████▏        | 1432/2163 [00:01<00:00, 886.12it/s]\u001b[A\n",
      "Processing:  71%|██████████████████▎       | 1528/2163 [00:01<00:00, 906.34it/s]\u001b[A\n",
      "Processing:  75%|███████████████████▍      | 1621/2163 [00:01<00:00, 911.97it/s]\u001b[A\n",
      "Processing:  79%|████████████████████▌     | 1713/2163 [00:01<00:00, 910.98it/s]\u001b[A\n",
      "Processing:  84%|█████████████████████▋    | 1809/2163 [00:02<00:00, 925.06it/s]\u001b[A\n",
      "Processing:  88%|██████████████████████▊   | 1902/2163 [00:02<00:00, 920.60it/s]\u001b[A\n",
      "Processing:  93%|████████████████████████  | 2001/2163 [00:02<00:00, 933.67it/s]\u001b[A\n",
      "Processing: 100%|██████████████████████████| 2163/2163 [00:02<00:00, 891.55it/s]\u001b[A\n",
      "100%|█████████████████████████████████████████████| 1/1 [00:02<00:00,  2.57s/it]\n"
     ]
    },
    {
     "name": "stdout",
     "output_type": "stream",
     "text": [
      "('gpt-4o-2024-05-13', 'gpt-4o-2024-05-13', 'gpt-4o-2024-05-13', 'gpt-4o-2024-05-13', 'gpt-4o-2024-05-13', 'gpt-4o-2024-05-13', 'gpt-4o-2024-05-13')\n"
     ]
    },
    {
     "name": "stderr",
     "output_type": "stream",
     "text": [
      "  0%|                                                     | 0/1 [00:00<?, ?it/s]\n",
      "Processing:   0%|                                      | 0/2163 [00:00<?, ?it/s]\u001b[A\n",
      "Processing:   4%|█▏                          | 91/2163 [00:00<00:02, 886.96it/s]\u001b[A\n",
      "Processing:   9%|██▍                        | 199/2163 [00:00<00:01, 999.14it/s]\u001b[A\n",
      "Processing:  14%|███▌                      | 301/2163 [00:00<00:01, 1000.25it/s]\u001b[A\n",
      "Processing:  19%|████▉                     | 407/2163 [00:00<00:01, 1023.29it/s]\u001b[A\n",
      "Processing:  24%|██████▏                   | 511/2163 [00:00<00:01, 1020.14it/s]\u001b[A\n",
      "Processing:  29%|███████▍                  | 621/2163 [00:00<00:01, 1037.26it/s]\u001b[A\n",
      "Processing:  34%|████████▊                 | 731/2163 [00:00<00:01, 1056.98it/s]\u001b[A\n",
      "Processing:  39%|██████████                | 841/2163 [00:00<00:01, 1070.30it/s]\u001b[A\n",
      "Processing:  44%|███████████▍              | 956/2163 [00:00<00:01, 1091.68it/s]\u001b[A\n",
      "Processing:  50%|████████████▍            | 1071/2163 [00:01<00:00, 1098.58it/s]\u001b[A\n",
      "Processing:  55%|█████████████▋           | 1187/2163 [00:01<00:00, 1113.86it/s]\u001b[A\n",
      "Processing:  60%|███████████████          | 1301/2163 [00:01<00:00, 1120.86it/s]\u001b[A\n",
      "Processing:  65%|████████████████▎        | 1416/2163 [00:01<00:00, 1129.55it/s]\u001b[A\n",
      "Processing:  71%|█████████████████▋       | 1529/2163 [00:01<00:00, 1128.59it/s]\u001b[A\n",
      "Processing:  76%|██████████████████▉      | 1642/2163 [00:01<00:00, 1121.09it/s]\u001b[A\n",
      "Processing:  81%|████████████████████▎    | 1758/2163 [00:01<00:00, 1129.29it/s]\u001b[A\n",
      "Processing:  87%|█████████████████████▋   | 1874/2163 [00:01<00:00, 1136.78it/s]\u001b[A\n",
      "Processing:  92%|██████████████████████▉  | 1988/2163 [00:01<00:00, 1128.83it/s]\u001b[A\n",
      "Processing: 100%|█████████████████████████| 2163/2163 [00:01<00:00, 1095.21it/s]\u001b[A\n",
      "100%|█████████████████████████████████████████████| 1/1 [00:02<00:00,  2.02s/it]\n"
     ]
    },
    {
     "name": "stdout",
     "output_type": "stream",
     "text": [
      "('gpt-4-turbo-2024-04-09', 'gpt-4-turbo-2024-04-09', 'gpt-4-turbo-2024-04-09', 'gpt-4-turbo-2024-04-09', 'gpt-4-turbo-2024-04-09', 'gpt-4-turbo-2024-04-09', 'gpt-4-turbo-2024-04-09')\n"
     ]
    },
    {
     "name": "stderr",
     "output_type": "stream",
     "text": [
      "  0%|                                                     | 0/1 [00:00<?, ?it/s]\n",
      "Processing:   0%|                                      | 0/2163 [00:00<?, ?it/s]\u001b[A\n",
      "Processing:   4%|█                           | 81/2163 [00:00<00:02, 752.30it/s]\u001b[A\n",
      "Processing:   8%|██▏                        | 171/2163 [00:00<00:02, 817.37it/s]\u001b[A\n",
      "Processing:  12%|███▎                       | 261/2163 [00:00<00:02, 840.41it/s]\u001b[A\n",
      "Processing:  16%|████▍                      | 356/2163 [00:00<00:02, 881.37it/s]\u001b[A\n",
      "Processing:  21%|█████▌                     | 445/2163 [00:00<00:01, 877.91it/s]\u001b[A\n",
      "Processing:  25%|██████▊                    | 541/2163 [00:00<00:01, 892.52it/s]\u001b[A\n",
      "Processing:  30%|████████                   | 641/2163 [00:00<00:01, 917.56it/s]\u001b[A\n",
      "Processing:  34%|█████████▏                 | 741/2163 [00:00<00:01, 935.66it/s]\u001b[A\n",
      "Processing:  39%|██████████▍                | 841/2163 [00:00<00:01, 948.83it/s]\u001b[A\n",
      "Processing:  43%|███████████▋               | 940/2163 [00:01<00:01, 959.85it/s]\u001b[A\n",
      "Processing:  48%|████████████▍             | 1037/2163 [00:01<00:01, 951.06it/s]\u001b[A\n",
      "Processing:  52%|█████████████▌            | 1133/2163 [00:01<00:01, 946.77it/s]\u001b[A\n",
      "Processing:  57%|██████████████▊           | 1228/2163 [00:01<00:00, 947.36it/s]\u001b[A\n",
      "Processing:  61%|███████████████▉          | 1325/2163 [00:01<00:00, 951.86it/s]\u001b[A\n",
      "Processing:  66%|█████████████████         | 1423/2163 [00:01<00:00, 959.22it/s]\u001b[A\n",
      "Processing:  71%|██████████████████▍       | 1530/2163 [00:01<00:00, 986.97it/s]\u001b[A\n",
      "Processing:  75%|███████████████████▋      | 1633/2163 [00:01<00:00, 999.45it/s]\u001b[A\n",
      "Processing:  80%|████████████████████▊     | 1733/2163 [00:01<00:00, 995.47it/s]\u001b[A\n",
      "Processing:  85%|█████████████████████▏   | 1836/2163 [00:01<00:00, 1005.36it/s]\u001b[A\n",
      "Processing:  90%|██████████████████████▍  | 1941/2163 [00:02<00:00, 1018.10it/s]\u001b[A\n",
      "Processing:  95%|███████████████████████▋ | 2049/2163 [00:02<00:00, 1030.99it/s]\u001b[A\n",
      "Processing: 100%|██████████████████████████| 2163/2163 [00:02<00:00, 959.95it/s]\u001b[A\n",
      "100%|█████████████████████████████████████████████| 1/1 [00:02<00:00,  2.29s/it]\n"
     ]
    },
    {
     "name": "stdout",
     "output_type": "stream",
     "text": [
      "('gpt-4o-mini-2024-07-18', 'gpt-4o-mini-2024-07-18', 'gpt-4o-mini-2024-07-18', 'gpt-4o-mini-2024-07-18', 'gpt-4o-mini-2024-07-18', 'gpt-4o-mini-2024-07-18', 'gpt-4o-mini-2024-07-18')\n"
     ]
    },
    {
     "name": "stderr",
     "output_type": "stream",
     "text": [
      "  0%|                                                     | 0/1 [00:00<?, ?it/s]\n",
      "Processing:   0%|                                      | 0/2163 [00:00<?, ?it/s]\u001b[A\n",
      "Processing:   3%|▊                           | 61/2163 [00:00<00:03, 548.52it/s]\u001b[A\n",
      "Processing:   6%|█▋                         | 131/2163 [00:00<00:03, 621.65it/s]\u001b[A\n",
      "Processing:  10%|██▋                        | 211/2163 [00:00<00:02, 687.31it/s]\u001b[A\n",
      "Processing:  13%|███▋                       | 291/2163 [00:00<00:02, 723.26it/s]\u001b[A\n",
      "Processing:  18%|████▊                      | 381/2163 [00:00<00:02, 763.96it/s]\u001b[A\n",
      "Processing:  22%|█████▊                     | 468/2163 [00:00<00:02, 798.10it/s]\u001b[A\n",
      "Processing:  26%|███████                    | 561/2163 [00:00<00:01, 821.86it/s]\u001b[A\n",
      "Processing:  31%|████████▎                  | 661/2163 [00:00<00:01, 874.52it/s]\u001b[A\n",
      "Processing:  36%|█████████▌                 | 768/2163 [00:00<00:01, 933.60it/s]\u001b[A\n",
      "Processing:  40%|██████████▊                | 870/2163 [00:01<00:01, 959.36it/s]\u001b[A\n",
      "Processing:  45%|████████████               | 967/2163 [00:01<00:01, 831.08it/s]\u001b[A\n",
      "Processing:  50%|████████████▊             | 1071/2163 [00:01<00:01, 871.55it/s]\u001b[A\n",
      "Processing:  55%|██████████████▏           | 1181/2163 [00:01<00:01, 918.94it/s]\u001b[A\n",
      "Processing:  59%|███████████████▎          | 1275/2163 [00:01<00:00, 919.16it/s]\u001b[A\n",
      "Processing:  64%|████████████████▌         | 1381/2163 [00:01<00:00, 944.11it/s]\u001b[A\n",
      "Processing:  69%|█████████████████▊        | 1487/2163 [00:01<00:00, 976.69it/s]\u001b[A\n",
      "Processing:  74%|███████████████████       | 1591/2163 [00:01<00:00, 994.63it/s]\u001b[A\n",
      "Processing:  79%|███████████████████▋     | 1701/2163 [00:01<00:00, 1013.77it/s]\u001b[A\n",
      "Processing:  83%|████████████████████▊    | 1803/2163 [00:02<00:00, 1010.00it/s]\u001b[A\n",
      "Processing:  88%|██████████████████████▉   | 1905/2163 [00:02<00:00, 997.07it/s]\u001b[A\n",
      "Processing:  93%|███████████████████████▏ | 2006/2163 [00:02<00:00, 1000.81it/s]\u001b[A\n",
      "Processing: 100%|██████████████████████████| 2163/2163 [00:02<00:00, 906.57it/s]\u001b[A\n",
      "100%|█████████████████████████████████████████████| 1/1 [00:02<00:00,  2.43s/it]\n"
     ]
    },
    {
     "name": "stdout",
     "output_type": "stream",
     "text": [
      "('claude-3-5-sonnet-20240620', 'claude-3-5-sonnet-20240620', 'claude-3-5-sonnet-20240620', 'claude-3-5-sonnet-20240620', 'claude-3-5-sonnet-20240620', 'claude-3-5-sonnet-20240620', 'claude-3-5-sonnet-20240620')\n"
     ]
    },
    {
     "name": "stderr",
     "output_type": "stream",
     "text": [
      "  0%|                                                     | 0/1 [00:00<?, ?it/s]\n",
      "Processing:   0%|                                      | 0/2163 [00:00<?, ?it/s]\u001b[A\n",
      "Processing:   3%|▊                           | 61/2163 [00:00<00:03, 564.03it/s]\u001b[A\n",
      "Processing:   6%|█▋                         | 131/2163 [00:00<00:03, 626.09it/s]\u001b[A\n",
      "Processing:  10%|██▋                        | 211/2163 [00:00<00:02, 677.37it/s]\u001b[A\n",
      "Processing:  13%|███▋                       | 291/2163 [00:00<00:02, 702.19it/s]\u001b[A\n",
      "Processing:  17%|████▋                      | 371/2163 [00:00<00:02, 714.88it/s]\u001b[A\n",
      "Processing:  21%|█████▋                     | 451/2163 [00:00<00:02, 738.39it/s]\u001b[A\n",
      "Processing:  25%|██████▊                    | 541/2163 [00:00<00:02, 772.07it/s]\u001b[A\n",
      "Processing:  29%|███████▉                   | 631/2163 [00:00<00:01, 805.22it/s]\u001b[A\n",
      "Processing:  33%|█████████                  | 721/2163 [00:00<00:01, 823.59it/s]\u001b[A\n",
      "Processing:  37%|██████████                 | 811/2163 [00:01<00:01, 837.89it/s]\u001b[A\n",
      "Processing:  42%|███████████▎               | 902/2163 [00:01<00:01, 858.27it/s]\u001b[A\n",
      "Processing:  46%|████████████              | 1001/2163 [00:01<00:01, 889.04it/s]\u001b[A\n",
      "Processing:  51%|█████████████▏            | 1101/2163 [00:01<00:01, 918.91it/s]\u001b[A\n",
      "Processing:  56%|██████████████▍           | 1201/2163 [00:01<00:01, 938.76it/s]\u001b[A\n",
      "Processing:  60%|███████████████▋          | 1301/2163 [00:01<00:00, 941.14it/s]\u001b[A\n",
      "Processing:  65%|████████████████▊         | 1401/2163 [00:01<00:00, 950.78it/s]\u001b[A\n",
      "Processing:  70%|██████████████████▏       | 1509/2163 [00:01<00:00, 987.61it/s]\u001b[A\n",
      "Processing:  74%|███████████████████▎      | 1611/2163 [00:01<00:00, 995.67it/s]\u001b[A\n",
      "Processing:  79%|████████████████████▌     | 1711/2163 [00:01<00:00, 995.46it/s]\u001b[A\n",
      "Processing:  84%|████████████████████▉    | 1814/2163 [00:02<00:00, 1004.31it/s]\u001b[A\n",
      "Processing:  89%|██████████████████████▏  | 1920/2163 [00:02<00:00, 1020.56it/s]\u001b[A\n",
      "Processing:  94%|███████████████████████▍ | 2027/2163 [00:02<00:00, 1035.15it/s]\u001b[A\n",
      "Processing: 100%|██████████████████████████| 2163/2163 [00:02<00:00, 868.67it/s]\u001b[A\n",
      "100%|█████████████████████████████████████████████| 1/1 [00:02<00:00,  2.60s/it]\n"
     ]
    },
    {
     "name": "stdout",
     "output_type": "stream",
     "text": [
      "('claude-3-haiku-20240307', 'claude-3-haiku-20240307', 'claude-3-haiku-20240307', 'claude-3-haiku-20240307', 'claude-3-haiku-20240307', 'claude-3-haiku-20240307', 'claude-3-haiku-20240307')\n"
     ]
    },
    {
     "name": "stderr",
     "output_type": "stream",
     "text": [
      "  0%|                                                     | 0/1 [00:00<?, ?it/s]\n",
      "Processing:   0%|                                      | 0/2163 [00:00<?, ?it/s]\u001b[A\n",
      "Processing:   3%|▉                           | 71/2163 [00:00<00:03, 694.78it/s]\u001b[A\n",
      "Processing:   7%|██                         | 161/2163 [00:00<00:02, 789.07it/s]\u001b[A\n",
      "Processing:  12%|███▏                       | 251/2163 [00:00<00:02, 837.24it/s]\u001b[A\n",
      "Processing:  16%|████▎                      | 341/2163 [00:00<00:02, 860.54it/s]\u001b[A\n",
      "Processing:  20%|█████▍                     | 431/2163 [00:00<00:01, 874.07it/s]\u001b[A\n",
      "Processing:  25%|██████▋                    | 531/2163 [00:00<00:01, 904.61it/s]\u001b[A\n",
      "Processing:  29%|███████▉                   | 635/2163 [00:00<00:01, 948.09it/s]\u001b[A\n",
      "Processing:  34%|█████████▏                 | 732/2163 [00:00<00:01, 954.94it/s]\u001b[A\n",
      "Processing:  38%|██████████▍                | 832/2163 [00:00<00:01, 964.86it/s]\u001b[A\n",
      "Processing:  43%|███████████▋               | 932/2163 [00:01<00:01, 974.63it/s]\u001b[A\n",
      "Processing:  48%|████████████▍             | 1032/2163 [00:01<00:01, 977.38it/s]\u001b[A\n",
      "Processing:  53%|█████████████▏           | 1141/2163 [00:01<00:01, 1000.10it/s]\u001b[A\n",
      "Processing:  58%|██████████████▍          | 1246/2163 [00:01<00:00, 1012.78it/s]\u001b[A\n",
      "Processing:  62%|███████████████▌         | 1351/2163 [00:01<00:00, 1017.31it/s]\u001b[A\n",
      "Processing:  67%|████████████████▊        | 1453/2163 [00:01<00:00, 1015.69it/s]\u001b[A\n",
      "Processing:  72%|█████████████████▉       | 1555/2163 [00:01<00:00, 1016.15it/s]\u001b[A\n",
      "Processing:  77%|███████████████████▏     | 1657/2163 [00:01<00:00, 1008.65it/s]\u001b[A\n",
      "Processing:  81%|████████████████████▎    | 1761/2163 [00:01<00:00, 1013.30it/s]\u001b[A\n",
      "Processing:  86%|█████████████████████▌   | 1863/2163 [00:01<00:00, 1005.73it/s]\u001b[A\n",
      "Processing:  91%|███████████████████████▌  | 1964/2163 [00:02<00:00, 996.99it/s]\u001b[A\n",
      "Processing: 100%|██████████████████████████| 2163/2163 [00:02<00:00, 970.42it/s]\u001b[A\n",
      "100%|█████████████████████████████████████████████| 1/1 [00:02<00:00,  2.27s/it]\n"
     ]
    },
    {
     "name": "stdout",
     "output_type": "stream",
     "text": [
      "('gemini-1.5-pro', 'gemini-1.5-pro', 'gemini-1.5-pro', 'gemini-1.5-pro', 'gemini-1.5-pro', 'gemini-1.5-pro', 'gemini-1.5-pro')\n"
     ]
    },
    {
     "name": "stderr",
     "output_type": "stream",
     "text": [
      "  0%|                                                     | 0/1 [00:00<?, ?it/s]\n",
      "Processing:   0%|                                      | 0/2163 [00:00<?, ?it/s]\u001b[A\n",
      "Processing:   4%|▉                           | 76/2163 [00:00<00:02, 758.71it/s]\u001b[A\n",
      "Processing:   8%|██                         | 168/2163 [00:00<00:02, 853.23it/s]\u001b[A\n",
      "Processing:  12%|███▎                       | 261/2163 [00:00<00:02, 887.95it/s]\u001b[A\n",
      "Processing:  17%|████▌                      | 361/2163 [00:00<00:01, 920.36it/s]\u001b[A\n",
      "Processing:  22%|█████▊                     | 467/2163 [00:00<00:01, 969.32it/s]\u001b[A\n",
      "Processing:  26%|███████                    | 569/2163 [00:00<00:01, 984.29it/s]\u001b[A\n",
      "Processing:  31%|████████▍                  | 671/2163 [00:00<00:01, 995.66it/s]\u001b[A\n",
      "Processing:  36%|█████████▍                | 781/2163 [00:00<00:01, 1027.31it/s]\u001b[A\n",
      "Processing:  41%|██████████▋               | 891/2163 [00:00<00:01, 1044.00it/s]\u001b[A\n",
      "Processing:  46%|███████████▌             | 1004/2163 [00:01<00:01, 1070.16it/s]\u001b[A\n",
      "Processing:  52%|████████████▉            | 1117/2163 [00:01<00:00, 1086.05it/s]\u001b[A\n",
      "Processing:  57%|██████████████▏          | 1228/2163 [00:01<00:00, 1093.11it/s]\u001b[A\n",
      "Processing:  62%|███████████████▍         | 1341/2163 [00:01<00:00, 1100.52it/s]\u001b[A\n",
      "Processing:  67%|████████████████▊        | 1458/2163 [00:01<00:00, 1120.53it/s]\u001b[A\n",
      "Processing:  73%|██████████████████▏      | 1571/2163 [00:01<00:00, 1098.16it/s]\u001b[A\n",
      "Processing:  78%|███████████████████▍     | 1681/2163 [00:01<00:00, 1089.52it/s]\u001b[A\n",
      "Processing:  83%|████████████████████▊    | 1800/2163 [00:01<00:00, 1114.45it/s]\u001b[A\n",
      "Processing:  88%|██████████████████████   | 1912/2163 [00:01<00:00, 1108.19it/s]\u001b[A\n",
      "Processing:  94%|███████████████████████▍ | 2023/2163 [00:01<00:00, 1096.93it/s]\u001b[A\n",
      "Processing: 100%|█████████████████████████| 2163/2163 [00:02<00:00, 1053.83it/s]\u001b[A\n",
      "100%|█████████████████████████████████████████████| 1/1 [00:02<00:00,  2.16s/it]\n"
     ]
    },
    {
     "name": "stdout",
     "output_type": "stream",
     "text": [
      "('gemini-1.5-flash', 'gemini-1.5-flash', 'gemini-1.5-flash', 'gemini-1.5-flash', 'gemini-1.5-flash', 'gemini-1.5-flash', 'gemini-1.5-flash')\n"
     ]
    },
    {
     "name": "stderr",
     "output_type": "stream",
     "text": [
      "  0%|                                                     | 0/1 [00:00<?, ?it/s]\n",
      "Processing:   0%|                                      | 0/2163 [00:00<?, ?it/s]\u001b[A\n",
      "Processing:   3%|▉                           | 70/2163 [00:00<00:03, 697.27it/s]\u001b[A\n",
      "Processing:   6%|█▋                         | 140/2163 [00:00<00:02, 681.23it/s]\u001b[A\n",
      "Processing:  10%|██▋                        | 220/2163 [00:00<00:02, 732.61it/s]\u001b[A\n",
      "Processing:  14%|███▊                       | 307/2163 [00:00<00:02, 784.88it/s]\u001b[A\n",
      "Processing:  18%|████▊                      | 386/2163 [00:00<00:02, 780.52it/s]\u001b[A\n",
      "Processing:  22%|█████▉                     | 472/2163 [00:00<00:02, 804.90it/s]\u001b[A\n",
      "Processing:  26%|███████                    | 561/2163 [00:00<00:01, 823.88it/s]\u001b[A\n",
      "Processing:  31%|████████▎                  | 661/2163 [00:00<00:01, 868.59it/s]\u001b[A\n",
      "Processing:  35%|█████████▍                 | 758/2163 [00:00<00:01, 899.59it/s]\u001b[A\n",
      "Processing:  40%|██████████▋                | 858/2163 [00:01<00:01, 929.81it/s]\u001b[A\n",
      "Processing:  44%|███████████▉               | 952/2163 [00:01<00:01, 931.70it/s]\u001b[A\n",
      "Processing:  49%|████████████▋             | 1051/2163 [00:01<00:01, 938.30it/s]\u001b[A\n",
      "Processing:  53%|█████████████▊            | 1151/2163 [00:01<00:01, 942.87it/s]\u001b[A\n",
      "Processing:  58%|███████████████           | 1251/2163 [00:01<00:00, 949.00it/s]\u001b[A\n",
      "Processing:  62%|████████████████▏         | 1351/2163 [00:01<00:00, 946.24it/s]\u001b[A\n",
      "Processing:  67%|█████████████████▍        | 1451/2163 [00:01<00:00, 960.10it/s]\u001b[A\n",
      "Processing:  72%|██████████████████▋       | 1557/2163 [00:01<00:00, 989.15it/s]\u001b[A\n",
      "Processing:  77%|███████████████████▉      | 1656/2163 [00:01<00:00, 984.90it/s]\u001b[A\n",
      "Processing:  81%|█████████████████████     | 1755/2163 [00:01<00:00, 982.89it/s]\u001b[A\n",
      "Processing:  86%|██████████████████████▎   | 1854/2163 [00:02<00:00, 975.49it/s]\u001b[A\n",
      "Processing:  91%|███████████████████████▌  | 1959/2163 [00:02<00:00, 997.32it/s]\u001b[A\n",
      "Processing:  95%|████████████████████████▋ | 2059/2163 [00:02<00:00, 974.54it/s]\u001b[A\n",
      "Processing: 100%|██████████████████████████| 2163/2163 [00:02<00:00, 918.28it/s]\u001b[A\n",
      "100%|█████████████████████████████████████████████| 1/1 [00:02<00:00,  2.40s/it]\n"
     ]
    },
    {
     "name": "stdout",
     "output_type": "stream",
     "text": [
      "('meta-llama/Meta-Llama-3.1-405B-Instruct-Turbo', 'meta-llama/Meta-Llama-3.1-405B-Instruct-Turbo', 'meta-llama/Meta-Llama-3.1-405B-Instruct-Turbo', 'meta-llama/Meta-Llama-3.1-405B-Instruct-Turbo', 'meta-llama/Meta-Llama-3.1-405B-Instruct-Turbo', 'meta-llama/Meta-Llama-3.1-405B-Instruct-Turbo', 'meta-llama/Meta-Llama-3.1-405B-Instruct-Turbo')\n"
     ]
    },
    {
     "name": "stderr",
     "output_type": "stream",
     "text": [
      "  0%|                                                     | 0/1 [00:00<?, ?it/s]\n",
      "Processing:   0%|                                      | 0/2163 [00:00<?, ?it/s]\u001b[A\n",
      "Processing:   4%|█                           | 81/2163 [00:00<00:02, 755.29it/s]\u001b[A\n",
      "Processing:   8%|██▏                        | 171/2163 [00:00<00:02, 825.45it/s]\u001b[A\n",
      "Processing:  13%|███▍                       | 271/2163 [00:00<00:02, 885.51it/s]\u001b[A\n",
      "Processing:  17%|████▋                      | 371/2163 [00:00<00:01, 920.57it/s]\u001b[A\n",
      "Processing:  22%|█████▉                     | 471/2163 [00:00<00:01, 940.57it/s]\u001b[A\n",
      "Processing:  26%|███████▏                   | 571/2163 [00:00<00:01, 853.55it/s]\u001b[A\n",
      "Processing:  31%|████████▍                  | 675/2163 [00:00<00:01, 908.66it/s]\u001b[A\n",
      "Processing:  36%|█████████▋                 | 781/2163 [00:00<00:01, 946.51it/s]\u001b[A\n",
      "Processing:  41%|███████████                | 891/2163 [00:00<00:01, 986.99it/s]\u001b[A\n",
      "Processing:  46%|███████████▉              | 998/2163 [00:01<00:01, 1011.18it/s]\u001b[A\n",
      "Processing:  51%|████████████▊            | 1107/2163 [00:01<00:01, 1034.42it/s]\u001b[A\n",
      "Processing:  56%|██████████████           | 1221/2163 [00:01<00:00, 1053.35it/s]\u001b[A\n",
      "Processing:  62%|███████████████▍         | 1333/2163 [00:01<00:00, 1070.87it/s]\u001b[A\n",
      "Processing:  67%|████████████████▋        | 1441/2163 [00:01<00:00, 1071.42it/s]\u001b[A\n",
      "Processing:  72%|█████████████████▉       | 1550/2163 [00:01<00:00, 1074.95it/s]\u001b[A\n",
      "Processing:  77%|███████████████████▏     | 1661/2163 [00:01<00:00, 1075.78it/s]\u001b[A\n",
      "Processing:  82%|████████████████████▌    | 1775/2163 [00:01<00:00, 1094.69it/s]\u001b[A\n",
      "Processing:  87%|█████████████████████▊   | 1886/2163 [00:01<00:00, 1096.27it/s]\u001b[A\n",
      "Processing:  92%|███████████████████████  | 1996/2163 [00:01<00:00, 1091.99it/s]\u001b[A\n",
      "Processing: 100%|█████████████████████████| 2163/2163 [00:02<00:00, 1021.76it/s]\u001b[A\n",
      "100%|█████████████████████████████████████████████| 1/1 [00:02<00:00,  2.16s/it]\n"
     ]
    },
    {
     "name": "stdout",
     "output_type": "stream",
     "text": [
      "('meta-llama/Meta-Llama-3.1-70B-Instruct-Turbo', 'meta-llama/Meta-Llama-3.1-70B-Instruct-Turbo', 'meta-llama/Meta-Llama-3.1-70B-Instruct-Turbo', 'meta-llama/Meta-Llama-3.1-70B-Instruct-Turbo', 'meta-llama/Meta-Llama-3.1-70B-Instruct-Turbo', 'meta-llama/Meta-Llama-3.1-70B-Instruct-Turbo', 'meta-llama/Meta-Llama-3.1-70B-Instruct-Turbo')\n"
     ]
    },
    {
     "name": "stderr",
     "output_type": "stream",
     "text": [
      "  0%|                                                     | 0/1 [00:00<?, ?it/s]\n",
      "Processing:   0%|                                      | 0/2163 [00:00<?, ?it/s]\u001b[A\n",
      "Processing:   4%|█                           | 81/2163 [00:00<00:02, 784.19it/s]\u001b[A\n",
      "Processing:   8%|██▏                        | 171/2163 [00:00<00:02, 849.28it/s]\u001b[A\n",
      "Processing:  13%|███▍                       | 277/2163 [00:00<00:02, 941.21it/s]\u001b[A\n",
      "Processing:  18%|████▊                      | 381/2163 [00:00<00:01, 964.71it/s]\u001b[A\n",
      "Processing:  22%|██████                     | 484/2163 [00:00<00:01, 987.18it/s]\u001b[A\n",
      "Processing:  27%|███████                   | 591/2163 [00:00<00:01, 1007.83it/s]\u001b[A\n",
      "Processing:  32%|████████▍                 | 701/2163 [00:00<00:01, 1035.35it/s]\u001b[A\n",
      "Processing:  37%|█████████▋                | 811/2163 [00:00<00:01, 1053.49it/s]\u001b[A\n",
      "Processing:  43%|███████████▏              | 931/2163 [00:00<00:01, 1086.90it/s]\u001b[A\n",
      "Processing:  48%|████████████             | 1041/2163 [00:01<00:01, 1081.93it/s]\u001b[A\n",
      "Processing:  54%|█████████████▍           | 1158/2163 [00:01<00:00, 1108.41it/s]\u001b[A\n",
      "Processing:  59%|██████████████▋          | 1272/2163 [00:01<00:00, 1114.57it/s]\u001b[A\n",
      "Processing:  64%|████████████████         | 1391/2163 [00:01<00:00, 1129.21it/s]\u001b[A\n",
      "Processing:  70%|█████████████████▍       | 1504/2163 [00:01<00:00, 1101.93it/s]\u001b[A\n",
      "Processing:  75%|██████████████████▋      | 1621/2163 [00:01<00:00, 1120.32it/s]\u001b[A\n",
      "Processing:  80%|████████████████████     | 1738/2163 [00:01<00:00, 1134.63it/s]\u001b[A\n",
      "Processing:  86%|█████████████████████▍   | 1852/2163 [00:01<00:00, 1131.64it/s]\u001b[A\n",
      "Processing:  91%|██████████████████████▋  | 1966/2163 [00:01<00:00, 1131.48it/s]\u001b[A\n",
      "Processing: 100%|█████████████████████████| 2163/2163 [00:01<00:00, 1081.55it/s]\u001b[A\n",
      "100%|█████████████████████████████████████████████| 1/1 [00:02<00:00,  2.11s/it]"
     ]
    },
    {
     "name": "stdout",
     "output_type": "stream",
     "text": [
      "('Qwen/Qwen2.5-72B-Instruct-Turbo', 'Qwen/Qwen2.5-72B-Instruct-Turbo', 'Qwen/Qwen2.5-72B-Instruct-Turbo', 'Qwen/Qwen2.5-72B-Instruct-Turbo', 'Qwen/Qwen2.5-72B-Instruct-Turbo', 'Qwen/Qwen2.5-72B-Instruct-Turbo', 'Qwen/Qwen2.5-72B-Instruct-Turbo')\n"
     ]
    },
    {
     "name": "stderr",
     "output_type": "stream",
     "text": [
      "\n"
     ]
    }
   ],
   "source": [
    "Agents_SameModel ={}\n",
    "for name in model_list:\n",
    "    Agents_SameModel[name] = MultiAgentDebate()\n",
    "    Opt0 = OptimizerFullSearch(model_list = [name])\n",
    "    Opt0.optimize( train_df, M1, Agents_SameModel[name])"
   ]
  },
  {
   "cell_type": "markdown",
   "id": "4ddc2ddc-96a2-4fba-ac8f-250d2933bec4",
   "metadata": {},
   "source": [
    "## 4. LLMSELECTOR"
   ]
  },
  {
   "cell_type": "code",
   "execution_count": 6,
   "id": "052123bc-69b9-489d-961f-7ead41fa50c8",
   "metadata": {},
   "outputs": [
    {
     "name": "stderr",
     "output_type": "stream",
     "text": [
      "100%|█████████████████████████████████████████| 500/500 [00:13<00:00, 37.43it/s]\n",
      "100%|█████████████████████████████████████████| 500/500 [00:12<00:00, 39.09it/s]\n",
      "100%|█████████████████████████████████████████| 500/500 [00:12<00:00, 40.66it/s]\n",
      "100%|█████████████████████████████████████████| 500/500 [00:12<00:00, 38.48it/s]\n",
      "100%|█████████████████████████████████████████| 500/500 [00:12<00:00, 40.84it/s]\n",
      "100%|█████████████████████████████████████████| 500/500 [00:11<00:00, 43.77it/s]\n",
      "100%|█████████████████████████████████████████| 500/500 [00:09<00:00, 50.13it/s]\n",
      "100%|█████████████████████████████████████████| 500/500 [00:11<00:00, 43.32it/s]\n",
      "100%|█████████████████████████████████████████| 500/500 [00:11<00:00, 43.61it/s]\n",
      "100%|█████████████████████████████████████████| 500/500 [00:11<00:00, 42.88it/s]\n",
      "100%|█████████████████████████████████████████| 500/500 [00:11<00:00, 44.33it/s]\n",
      "100%|█████████████████████████████████████████| 500/500 [00:11<00:00, 43.30it/s]\n",
      "100%|█████████████████████████████████████████| 500/500 [00:11<00:00, 43.57it/s]\n"
     ]
    }
   ],
   "source": [
    "LLMSELECTOR = MultiAgentDebate()\n",
    "Optimizer = OptimizerLLMDiagnoser(model_list = model_list)\n",
    "Optimizer.optimize( train_df.head(500), M1, LLMSELECTOR) # use only 500 samples for fast processing"
   ]
  },
  {
   "cell_type": "markdown",
   "id": "1cbd25d8-6e69-40e3-a07e-9b5e95f70b53",
   "metadata": {},
   "source": [
    "## 5. Performance evaluation"
   ]
  },
  {
   "cell_type": "code",
   "execution_count": 7,
   "id": "b0c3f488-e452-4adb-8f8d-c7f9415876a1",
   "metadata": {},
   "outputs": [
    {
     "name": "stderr",
     "output_type": "stream",
     "text": [
      "100%|██████████████████████████████████████| 2163/2163 [00:02<00:00, 993.59it/s]\n",
      "100%|████████████████████████████████████| 2163/2163 [00:00<00:00, 95852.84it/s]\n",
      "100%|█████████████████████████████████████| 2163/2163 [00:02<00:00, 1034.41it/s]\n",
      "100%|████████████████████████████████████| 2163/2163 [00:00<00:00, 99944.69it/s]\n",
      "100%|█████████████████████████████████████| 2163/2163 [00:02<00:00, 1055.97it/s]\n",
      "100%|████████████████████████████████████| 2163/2163 [00:00<00:00, 98609.59it/s]\n",
      "100%|██████████████████████████████████████| 2163/2163 [00:02<00:00, 962.32it/s]\n",
      "100%|████████████████████████████████████| 2163/2163 [00:00<00:00, 93737.39it/s]\n",
      "100%|█████████████████████████████████████| 2163/2163 [00:02<00:00, 1040.74it/s]\n",
      "100%|████████████████████████████████████| 2163/2163 [00:00<00:00, 98546.39it/s]\n",
      "100%|█████████████████████████████████████| 2163/2163 [00:02<00:00, 1047.97it/s]\n",
      "100%|████████████████████████████████████| 2163/2163 [00:00<00:00, 96424.37it/s]\n",
      "100%|█████████████████████████████████████| 2163/2163 [00:02<00:00, 1016.94it/s]\n",
      "100%|████████████████████████████████████| 2163/2163 [00:00<00:00, 96141.32it/s]\n",
      "100%|█████████████████████████████████████| 2163/2163 [00:02<00:00, 1080.17it/s]\n",
      "100%|████████████████████████████████████| 2163/2163 [00:00<00:00, 95598.31it/s]\n",
      "100%|█████████████████████████████████████| 2163/2163 [00:02<00:00, 1033.84it/s]\n",
      "100%|████████████████████████████████████| 2163/2163 [00:00<00:00, 83329.78it/s]\n",
      "100%|█████████████████████████████████████| 2163/2163 [00:02<00:00, 1066.72it/s]\n",
      "100%|████████████████████████████████████| 2163/2163 [00:00<00:00, 87098.62it/s]\n",
      "100%|█████████████████████████████████████| 2163/2163 [00:02<00:00, 1035.92it/s]\n",
      "100%|████████████████████████████████████| 2163/2163 [00:00<00:00, 95624.51it/s]\n"
     ]
    },
    {
     "data": {
      "text/plain": [
       "'test accuracy'"
      ]
     },
     "metadata": {},
     "output_type": "display_data"
    },
    {
     "data": {
      "text/html": [
       "<div>\n",
       "<style scoped>\n",
       "    .dataframe tbody tr th:only-of-type {\n",
       "        vertical-align: middle;\n",
       "    }\n",
       "\n",
       "    .dataframe tbody tr th {\n",
       "        vertical-align: top;\n",
       "    }\n",
       "\n",
       "    .dataframe thead th {\n",
       "        text-align: right;\n",
       "    }\n",
       "</style>\n",
       "<table border=\"1\" class=\"dataframe\">\n",
       "  <thead>\n",
       "    <tr style=\"text-align: right;\">\n",
       "      <th></th>\n",
       "      <th>Name</th>\n",
       "      <th>Mean_Score</th>\n",
       "    </tr>\n",
       "  </thead>\n",
       "  <tbody>\n",
       "    <tr>\n",
       "      <th>0</th>\n",
       "      <td>LLMSELECTOR</td>\n",
       "      <td>0.276006</td>\n",
       "    </tr>\n",
       "    <tr>\n",
       "      <th>1</th>\n",
       "      <td>gpt-4o-2024-05-13</td>\n",
       "      <td>0.201572</td>\n",
       "    </tr>\n",
       "    <tr>\n",
       "      <th>2</th>\n",
       "      <td>gpt-4-turbo-2024-04-09</td>\n",
       "      <td>0.160425</td>\n",
       "    </tr>\n",
       "    <tr>\n",
       "      <th>3</th>\n",
       "      <td>gpt-4o-mini-2024-07-18</td>\n",
       "      <td>0.050393</td>\n",
       "    </tr>\n",
       "    <tr>\n",
       "      <th>4</th>\n",
       "      <td>claude-3-5-sonnet-20240620</td>\n",
       "      <td>0.202959</td>\n",
       "    </tr>\n",
       "    <tr>\n",
       "      <th>5</th>\n",
       "      <td>claude-3-haiku-20240307</td>\n",
       "      <td>0.078132</td>\n",
       "    </tr>\n",
       "    <tr>\n",
       "      <th>6</th>\n",
       "      <td>gemini-1.5-pro</td>\n",
       "      <td>0.158576</td>\n",
       "    </tr>\n",
       "    <tr>\n",
       "      <th>7</th>\n",
       "      <td>gemini-1.5-flash</td>\n",
       "      <td>0.054092</td>\n",
       "    </tr>\n",
       "    <tr>\n",
       "      <th>8</th>\n",
       "      <td>meta-llama/Meta-Llama-3.1-405B-Instruct-Turbo</td>\n",
       "      <td>0.213130</td>\n",
       "    </tr>\n",
       "    <tr>\n",
       "      <th>9</th>\n",
       "      <td>meta-llama/Meta-Llama-3.1-70B-Instruct-Turbo</td>\n",
       "      <td>0.121128</td>\n",
       "    </tr>\n",
       "    <tr>\n",
       "      <th>10</th>\n",
       "      <td>Qwen/Qwen2.5-72B-Instruct-Turbo</td>\n",
       "      <td>0.054092</td>\n",
       "    </tr>\n",
       "  </tbody>\n",
       "</table>\n",
       "</div>"
      ],
      "text/plain": [
       "                                             Name  Mean_Score\n",
       "0                                     LLMSELECTOR    0.276006\n",
       "1                               gpt-4o-2024-05-13    0.201572\n",
       "2                          gpt-4-turbo-2024-04-09    0.160425\n",
       "3                          gpt-4o-mini-2024-07-18    0.050393\n",
       "4                      claude-3-5-sonnet-20240620    0.202959\n",
       "5                         claude-3-haiku-20240307    0.078132\n",
       "6                                  gemini-1.5-pro    0.158576\n",
       "7                                gemini-1.5-flash    0.054092\n",
       "8   meta-llama/Meta-Llama-3.1-405B-Instruct-Turbo    0.213130\n",
       "9    meta-llama/Meta-Llama-3.1-70B-Instruct-Turbo    0.121128\n",
       "10                Qwen/Qwen2.5-72B-Instruct-Turbo    0.054092"
      ]
     },
     "metadata": {},
     "output_type": "display_data"
    }
   ],
   "source": [
    "All_systems = {\"LLMSELECTOR\": LLMSELECTOR, **Agents_SameModel}\n",
    "results = compute_score(All_systems, test_df, M1)\n",
    "display(\"test accuracy\",results)"
   ]
  },
  {
   "cell_type": "markdown",
   "id": "4a669c95-e94a-4b3e-b6a8-a25b5b80312c",
   "metadata": {},
   "source": [
    "## 6. Visualization"
   ]
  },
  {
   "cell_type": "code",
   "execution_count": 8,
   "id": "e2503bfe-5c55-461d-a3e0-fb1c8dd2f8d6",
   "metadata": {},
   "outputs": [],
   "source": [
    "import plotly.express as px\n",
    "\n",
    "def visualize_scores(dataframe):\n",
    "    \"\"\"\n",
    "    Visualizes the Mean Scores of models in a given dataframe using Plotly.\n",
    "\n",
    "    Args:\n",
    "    - dataframe (pd.DataFrame): DataFrame containing 'Name' and 'Mean_Score' columns.\n",
    "\n",
    "    Returns:\n",
    "    - A Plotly bar chart figure.\n",
    "    \"\"\"\n",
    "    fig = px.bar(\n",
    "        dataframe,\n",
    "        x=\"Name\",\n",
    "        y=\"Mean_Score\",\n",
    "        title=\"Mean Scores of Models\",\n",
    "        labels={\"Name\": \"Model Name\", \"Mean_Score\": \"Mean Score\"},\n",
    "        text=\"Mean_Score\",\n",
    "    )\n",
    "    fig.update_traces(texttemplate='%{text:.2f}', textposition='outside')\n",
    "    fig.update_layout(\n",
    "        xaxis=dict(title=\"Model Name\", tickangle=45),\n",
    "        yaxis=dict(title=\"Mean Score\"),\n",
    "        margin=dict(l=40, r=40, t=40, b=100),\n",
    "        height=800,\n",
    "    )\n",
    "    return fig"
   ]
  },
  {
   "cell_type": "code",
   "execution_count": 9,
   "id": "c4c73819-ece2-495e-bea9-86b6233f3965",
   "metadata": {},
   "outputs": [],
   "source": [
    "name_map = {'gpt-4o-2024-05-13': 'GPT-4o', \n",
    "            'gpt-4-turbo-2024-04-09': 'GPT-4 Turbo', \n",
    "           'meta-llama/Meta-Llama-3.1-405B-Instruct-Turbo': 'Llama 3.1 405B',\n",
    "           'meta-llama/Meta-Llama-3.1-70B-Instruct-Turbo': 'Llama 3.1 70B',            \n",
    "           'Qwen/Qwen2.5-72B-Instruct-Turbo': 'Qwen 2.5 72B',\n",
    "          }\n",
    "results['Name'] = results['Name'].replace(name_map)"
   ]
  },
  {
   "cell_type": "code",
   "execution_count": 10,
   "id": "78ad4a04-eb96-483f-9b60-953f47c451fc",
   "metadata": {},
   "outputs": [
    {
     "data": {
      "image/png": "[encoded data removed]"
     },
     "metadata": {},
     "output_type": "display_data"
    }
   ],
   "source": [
    "visualize_scores(results).show(renderer=\"png\")"
   ]
  },
  {
   "cell_type": "markdown",
   "id": "75ac27ae-2e1d-425d-9e1e-0aecb1b579df",
   "metadata": {},
   "source": [
    "## 7. Example Deepdive"
   ]
  },
  {
   "cell_type": "code",
   "execution_count": 11,
   "id": "e1b211a4-9fd3-460c-af9b-0b761a8b561a",
   "metadata": {},
   "outputs": [],
   "source": [
    "# Select questions on which LLMSELECTOR is correct but other models are wrong\n",
    "model1 = 'meta-llama/Meta-Llama-3.1-405B-Instruct-Turbo'\n",
    "model2 = 'claude-3-5-sonnet-20240620'\n",
    "example_df = test_df[\n",
    "(test_df['score_LLMSELECTOR']==1) &\n",
    "(test_df[f'score_{model1}']==0)\n",
    "& (test_df[f'score_{model2}']==0)]"
   ]
  },
  {
   "cell_type": "code",
   "execution_count": 12,
   "id": "f0db1143-dd9f-4bd0-b03a-6d0bb370c620",
   "metadata": {},
   "outputs": [
    {
     "name": "stdout",
     "output_type": "stream",
     "text": [
      "question: On what day, month, and year was Richard Evelyn Byrd Jr. promoted to the rank of Lieutenant (Junior Grade)?\n",
      "answer: June 8, 1915\n"
     ]
    }
   ],
   "source": [
    "index = 1\n",
    "query = example_df.iloc[index]['query']\n",
    "answer = example_df.iloc[index]['true_answer']\n",
    "print(f\"question: {query}\\nanswer: {answer}\")"
   ]
  },
  {
   "cell_type": "code",
   "execution_count": 13,
   "id": "fa41089c-b9ca-4cc7-91cb-9eeed449bda7",
   "metadata": {},
   "outputs": [
    {
     "data": {
      "text/plain": [
       "[['meta-llama/Meta-Llama-3.1-405B-Instruct-Turbo', '(2 June 1916)'],\n",
       " ['meta-llama/Meta-Llama-3.1-405B-Instruct-Turbo', '(2 June 1916)'],\n",
       " ['meta-llama/Meta-Llama-3.1-405B-Instruct-Turbo', '(2 June 1916)'],\n",
       " ['meta-llama/Meta-Llama-3.1-405B-Instruct-Turbo',\n",
       "  'After examining the solutions from other agents, I found that all agents provided the same answer: (2 June 1916). This suggests a consensus among the agents regarding the date Richard Evelyn Byrd Jr. was promoted to the rank of Lieutenant (Junior Grade).\\n\\nGiven the consistency of the responses, I conclude that the information is likely accurate. Therefore, I will retain my original answer.\\n\\n(2 June 1916)'],\n",
       " ['meta-llama/Meta-Llama-3.1-405B-Instruct-Turbo',\n",
       "  'After examining the solutions from other agents, I found that all agents provided the same answer: (2 June 1916). This suggests a consensus among the agents regarding the date Richard Evelyn Byrd Jr. was promoted to the rank of Lieutenant (Junior Grade).\\n\\nGiven the consistency of the responses, I conclude that the information is likely accurate. Therefore, I will retain my original answer.\\n\\n(2 June 1916)'],\n",
       " ['meta-llama/Meta-Llama-3.1-405B-Instruct-Turbo',\n",
       "  'After examining the solutions from other agents, I found that all agents provided the same answer: (2 June 1916). This suggests a consensus among the agents regarding the date Richard Evelyn Byrd Jr. was promoted to the rank of Lieutenant (Junior Grade).\\n\\nGiven the consistency of the responses, I conclude that the information is likely accurate. Therefore, I will retain my original answer.\\n\\n(2 June 1916)'],\n",
       " ['meta-llama/Meta-Llama-3.1-405B-Instruct-Turbo', '2 June 1916']]"
      ]
     },
     "execution_count": 13,
     "metadata": {},
     "output_type": "execute_result"
    }
   ],
   "source": [
    "Agents_SameModel[model1].generate(query)\n",
    "Agents_SameModel[model1].load_history()['trace']"
   ]
  },
  {
   "cell_type": "code",
   "execution_count": 14,
   "id": "012e6a15-5320-42c0-9c96-07201466437e",
   "metadata": {},
   "outputs": [
    {
     "data": {
      "text/plain": [
       "[['claude-3-5-sonnet-20240620',\n",
       "  \"I apologize, but I don't have the exact date of Richard Evelyn Byrd Jr.'s promotion to Lieutenant (Junior Grade) in my database. Naval promotions are often not as widely documented as other career milestones. Without access to his official military records, I cannot provide a specific day, month, and year for this promotion with certainty. Therefore, I cannot format a precise answer as requested.\\n\\n(Unable to determine)\"],\n",
       " ['claude-3-5-sonnet-20240620',\n",
       "  'Based on my research, Richard Evelyn Byrd Jr. was promoted to the rank of Lieutenant (Junior Grade) on June 2, 1910. Therefore, the concise answer formatted as requested is:\\n\\n(June 2, 1910)'],\n",
       " ['claude-3-5-sonnet-20240620',\n",
       "  'Based on my research, Richard Evelyn Byrd Jr. was promoted to the rank of Lieutenant (Junior Grade) on June 2, 1910. Therefore, the concise answer formatted as requested is:\\n\\n(June 2, 1910)'],\n",
       " ['claude-3-5-sonnet-20240620',\n",
       "  \"Thank you for providing the additional information from other agents. After reviewing their responses, I can see that both agents have consistently stated that Richard Evelyn Byrd Jr. was promoted to the rank of Lieutenant (Junior Grade) on June 2, 1910. \\n\\nWhile I initially didn't have this specific date in my database, the agreement between the two other agents suggests that this information is likely correct. Given this new input, I will update my answer accordingly.\\n\\nMy final answer, concisely formatted as requested, is:\\n\\n(June 2, 1910)\"],\n",
       " ['claude-3-5-sonnet-20240620',\n",
       "  \"After examining my initial response and the responses from the other agents, I realize that my original answer may have been stated with too much certainty. Agent 0 raises a valid point that naval promotions from that era are not always well-documented, and without access to official military records, it's difficult to state an exact date with confidence.\\n\\nAgent 1's response matches my initial answer, but given the uncertainty raised by Agent 0, it's prudent to be more cautious in our assertion.\\n\\nWhile June 2, 1910, appears in some sources as the date of Byrd's promotion to Lieutenant (Junior Grade), without access to primary sources or official military records, we cannot be absolutely certain of this date.\\n\\nTherefore, my updated, more cautious answer is:\\n\\n(Likely June 2, 1910, but cannot be stated with absolute certainty)\"],\n",
       " ['claude-3-5-sonnet-20240620',\n",
       "  \"After examining my initial response and the responses from the other agents, I realize that my original answer may have been stated with too much certainty. Agent 0 raises a valid point that naval promotions from that era are not always well-documented, and without access to official military records, it's difficult to state an exact date with confidence.\\n\\nAgent 1's response matches my initial answer, but given the uncertainty raised by Agent 0, it's prudent to be more cautious in our assertion.\\n\\nWhile June 2, 1910, appears in some sources as the date of Byrd's promotion to Lieutenant (Junior Grade), without access to primary sources or official military records, we cannot be absolutely certain of this date.\\n\\nTherefore, my updated, more cautious answer is:\\n\\n(Likely June 2, 1910, but cannot be stated with absolute certainty)\"],\n",
       " ['claude-3-5-sonnet-20240620',\n",
       "  'Likely June 2, 1910, but cannot be stated with absolute certainty']]"
      ]
     },
     "execution_count": 14,
     "metadata": {},
     "output_type": "execute_result"
    }
   ],
   "source": [
    "Agents_SameModel[model2].generate(query)\n",
    "Agents_SameModel[model2].load_history()['trace']"
   ]
  },
  {
   "cell_type": "code",
   "execution_count": 15,
   "id": "45ababe3-5f9e-42f1-ae28-ac901f9a3516",
   "metadata": {},
   "outputs": [
    {
     "data": {
      "text/plain": [
       "[['claude-3-5-sonnet-20240620',\n",
       "  \"I apologize, but I don't have the exact date of Richard Evelyn Byrd Jr.'s promotion to Lieutenant (Junior Grade) in my database. Naval promotions are often not as widely documented as other career milestones. Without access to his official military records, I cannot provide a specific day, month, and year for this promotion with certainty. Therefore, I cannot format a precise answer as requested.\\n\\n(Unable to determine)\"],\n",
       " ['gpt-4o-2024-05-13',\n",
       "  '(Richard Evelyn Byrd Jr. was promoted to the rank of Lieutenant (Junior Grade) on June 8, 1915).'],\n",
       " ['meta-llama/Meta-Llama-3.1-405B-Instruct-Turbo', '(2 June 1916)'],\n",
       " ['gpt-4o-2024-05-13',\n",
       "  \"Based on the responses from the other agents, there is a discrepancy in the dates provided for Richard Evelyn Byrd Jr.'s promotion to Lieutenant (Junior Grade). Agent 0 states June 8, 1915, while Agent 1 states June 2, 1916. Given the conflicting information, I would need to verify the correct date from a reliable source. However, since I must choose one based on the provided responses, I will go with the more commonly cited date in historical records.\\n\\nFinal answer: (June 8, 1915)\"],\n",
       " ['gpt-4o-2024-05-13',\n",
       "  \"Upon reviewing the responses from other agents and cross-referencing historical records, it appears there is some discrepancy regarding the exact date of Richard Evelyn Byrd Jr.'s promotion to the rank of Lieutenant (Junior Grade). \\n\\nAgent 0 was unable to determine the date, while Agent 1 suggested June 2, 1916. My initial response was June 8, 1915. \\n\\nGiven the conflicting information, I will re-evaluate the historical context and available records to provide the most accurate answer. \\n\\nAfter further verification, the correct date of Richard Evelyn Byrd Jr.'s promotion to Lieutenant (Junior Grade) is indeed June 8, 1915.\\n\\nTherefore, the final answer is (June 8, 1915).\"],\n",
       " ['meta-llama/Meta-Llama-3.1-405B-Instruct-Turbo',\n",
       "  \"After examining the solutions from other agents, I have found conflicting information regarding the date of Richard Evelyn Byrd Jr.'s promotion to Lieutenant (Junior Grade). \\n\\nAgent 0 was unable to determine the date due to limited information in their database. Agent 1 provided a date of June 8, 1915, which differs from my initial response of 2 June 1916.\\n\\nGiven the uncertainty and conflicting information, I must reevaluate my initial response. Without further verification or access to official military records, I cannot confirm the accuracy of either date.\\n\\nTherefore, my final answer is: (Unable to determine)\"],\n",
       " ['gpt-4o-2024-05-13', 'June 8, 1915']]"
      ]
     },
     "execution_count": 15,
     "metadata": {},
     "output_type": "execute_result"
    }
   ],
   "source": [
    "LLMSELECTOR.generate(query)\n",
    "LLMSELECTOR.load_history()['trace']"
   ]
  }
 ],
 "metadata": {
  "kernelspec": {
   "display_name": "Python 3 (ipykernel)",
   "language": "python",
   "name": "python3"
  },
  "language_info": {
   "codemirror_mode": {
    "name": "ipython",
    "version": 3
   },
   "file_extension": ".py",
   "mimetype": "text/x-python",
   "name": "python",
   "nbconvert_exporter": "python",
   "pygments_lexer": "ipython3",
   "version": "3.9.19"
  }
 },
 "nbformat": 4,
 "nbformat_minor": 5
}
