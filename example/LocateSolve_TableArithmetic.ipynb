{
 "cells": [
  {
   "cell_type": "markdown",
   "id": "d93d4cc6-3305-4219-9067-fab3025945ac",
   "metadata": {},
   "source": [
    "## Config the environment"
   ]
  },
  {
   "cell_type": "code",
   "execution_count": 1,
   "id": "7e155c2a-b79b-4bd9-9bf7-67dfde394908",
   "metadata": {},
   "outputs": [],
   "source": [
    "from llmselector.data_utils import DataLoader_TableArithmetic\n",
    "from llmselector.compoundai.module.locatesolve import LocateSolve\n",
    "from llmselector.compoundai.metric import Metric, compute_score\n",
    "from llmselector.compoundai.optimizer import OptimizerFullSearch, OptimizerLLMDiagnoser\n",
    "import llmselector, os\n",
    "import os\n",
    "if not os.path.exists('../cache/db_tablearithmetic.sqlite'): \n",
    "    !wget -P ../cache https://github.com/LLMSELECTOR/LLMSELECTOR/releases/download/0.0.1/db_tablearithmetic.sqlite"
   ]
  },
  {
   "cell_type": "code",
   "execution_count": 2,
   "id": "e2437c2a-29e6-4c7e-9161-d7ea8e01f54b",
   "metadata": {},
   "outputs": [],
   "source": [
    "llmselector.config.config(\n",
    "    db_path=f\"../cache/db_tablearithmetic.sqlite\" ,\n",
    "    openai_api_key=\"YOUR_OPENAI_KEY\",\n",
    "\tanthropic_api_key=\"YOUR_ANTHROPIC_KEY\",\n",
    "\ttogether_ai_api_key=\"YOUR_TOGETHERAI_KEY\",\n",
    "\tgemini_api_key=\"YOUR_GEMINI_KEY\")"
   ]
  },
  {
   "cell_type": "markdown",
   "id": "50409a61-078e-46b6-9fcf-0f91ee16763b",
   "metadata": {},
   "source": [
    "## 1. Load dataset"
   ]
  },
  {
   "cell_type": "code",
   "execution_count": 3,
   "id": "feb5e552-d563-4734-b0f2-c8009f559b08",
   "metadata": {},
   "outputs": [],
   "source": [
    "from sklearn.model_selection import train_test_split\n",
    "Mydataloader = DataLoader_TableArithmetic(num_query=100,n=200,int_max=100,int_min=1)\n",
    "q_data = Mydataloader.get_query_df()\n",
    "train_df, test_df = train_test_split(q_data,test_size=0.5, random_state=2025)"
   ]
  },
  {
   "cell_type": "markdown",
   "id": "09f3f8da-d0e2-4159-aed6-1f8eb580ec09",
   "metadata": {},
   "source": [
    "## 2. Specify model and eval metric"
   ]
  },
  {
   "cell_type": "code",
   "execution_count": 4,
   "id": "418e5af1-2e91-4eaa-8ddb-10899c7ea465",
   "metadata": {},
   "outputs": [],
   "source": [
    "model_list = ['gpt-4o-2024-05-13','gpt-4-turbo-2024-04-09','gpt-4o-mini-2024-07-18',\n",
    "              'claude-3-5-sonnet-20240620','claude-3-haiku-20240307',\n",
    "              'gemini-1.5-pro','gemini-1.5-flash',\n",
    "              'meta-llama/Meta-Llama-3.1-405B-Instruct-Turbo','meta-llama/Meta-Llama-3.1-70B-Instruct-Turbo','Qwen/Qwen2.5-72B-Instruct-Turbo',\n",
    "              ]\n",
    "M1 = Metric('numeric_match')"
   ]
  },
  {
   "cell_type": "markdown",
   "id": "8f410760-5e66-48f1-9409-98a494029830",
   "metadata": {},
   "source": [
    "## 3. Standard systems using one fixed model"
   ]
  },
  {
   "cell_type": "code",
   "execution_count": 5,
   "id": "47288dd5-46cc-4852-b389-ab510a18fa1d",
   "metadata": {},
   "outputs": [
    {
     "name": "stderr",
     "output_type": "stream",
     "text": [
      "  0%|                                                     | 0/1 [00:00<?, ?it/s]\n",
      "Processing: 100%|█████████████████████████████| 50/50 [00:00<00:00, 1381.90it/s]\u001b[A\n",
      "100%|█████████████████████████████████████████████| 1/1 [00:00<00:00, 20.31it/s]\n"
     ]
    },
    {
     "name": "stdout",
     "output_type": "stream",
     "text": [
      "('gpt-4o-2024-05-13', 'gpt-4o-2024-05-13')\n"
     ]
    },
    {
     "name": "stderr",
     "output_type": "stream",
     "text": [
      "  0%|                                                     | 0/1 [00:00<?, ?it/s]\n",
      "Processing: 100%|█████████████████████████████| 50/50 [00:00<00:00, 1762.93it/s]\u001b[A\n",
      "100%|█████████████████████████████████████████████| 1/1 [00:00<00:00, 25.45it/s]\n"
     ]
    },
    {
     "name": "stdout",
     "output_type": "stream",
     "text": [
      "('gpt-4-turbo-2024-04-09', 'gpt-4-turbo-2024-04-09')\n"
     ]
    },
    {
     "name": "stderr",
     "output_type": "stream",
     "text": [
      "  0%|                                                     | 0/1 [00:00<?, ?it/s]\n",
      "Processing: 100%|█████████████████████████████| 50/50 [00:00<00:00, 1921.81it/s]\u001b[A\n",
      "100%|█████████████████████████████████████████████| 1/1 [00:00<00:00, 24.28it/s]\n"
     ]
    },
    {
     "name": "stdout",
     "output_type": "stream",
     "text": [
      "('gpt-4o-mini-2024-07-18', 'gpt-4o-mini-2024-07-18')\n"
     ]
    },
    {
     "name": "stderr",
     "output_type": "stream",
     "text": [
      "  0%|                                                     | 0/1 [00:00<?, ?it/s]\n",
      "Processing: 100%|█████████████████████████████| 50/50 [00:00<00:00, 1446.30it/s]\u001b[A\n",
      "100%|█████████████████████████████████████████████| 1/1 [00:00<00:00, 23.41it/s]\n"
     ]
    },
    {
     "name": "stdout",
     "output_type": "stream",
     "text": [
      "('claude-3-5-sonnet-20240620', 'claude-3-5-sonnet-20240620')\n"
     ]
    },
    {
     "name": "stderr",
     "output_type": "stream",
     "text": [
      "  0%|                                                     | 0/1 [00:00<?, ?it/s]\n",
      "Processing: 100%|█████████████████████████████| 50/50 [00:00<00:00, 1847.61it/s]\u001b[A\n",
      "100%|█████████████████████████████████████████████| 1/1 [00:00<00:00, 28.09it/s]\n"
     ]
    },
    {
     "name": "stdout",
     "output_type": "stream",
     "text": [
      "('claude-3-haiku-20240307', 'claude-3-haiku-20240307')\n"
     ]
    },
    {
     "name": "stderr",
     "output_type": "stream",
     "text": [
      "  0%|                                                     | 0/1 [00:00<?, ?it/s]\n",
      "Processing: 100%|█████████████████████████████| 50/50 [00:00<00:00, 1598.26it/s]\u001b[A\n",
      "100%|█████████████████████████████████████████████| 1/1 [00:00<00:00, 25.37it/s]\n"
     ]
    },
    {
     "name": "stdout",
     "output_type": "stream",
     "text": [
      "('gemini-1.5-pro', 'gemini-1.5-pro')\n"
     ]
    },
    {
     "name": "stderr",
     "output_type": "stream",
     "text": [
      "  0%|                                                     | 0/1 [00:00<?, ?it/s]\n",
      "Processing: 100%|█████████████████████████████| 50/50 [00:00<00:00, 1958.25it/s]\u001b[A\n",
      "100%|█████████████████████████████████████████████| 1/1 [00:00<00:00, 28.45it/s]\n"
     ]
    },
    {
     "name": "stdout",
     "output_type": "stream",
     "text": [
      "('gemini-1.5-flash', 'gemini-1.5-flash')\n"
     ]
    },
    {
     "name": "stderr",
     "output_type": "stream",
     "text": [
      "  0%|                                                     | 0/1 [00:00<?, ?it/s]\n",
      "Processing: 100%|█████████████████████████████| 50/50 [00:00<00:00, 1927.02it/s]\u001b[A\n",
      "100%|█████████████████████████████████████████████| 1/1 [00:00<00:00, 28.78it/s]\n"
     ]
    },
    {
     "name": "stdout",
     "output_type": "stream",
     "text": [
      "('meta-llama/Meta-Llama-3.1-405B-Instruct-Turbo', 'meta-llama/Meta-Llama-3.1-405B-Instruct-Turbo')\n"
     ]
    },
    {
     "name": "stderr",
     "output_type": "stream",
     "text": [
      "  0%|                                                     | 0/1 [00:00<?, ?it/s]\n",
      "Processing: 100%|█████████████████████████████| 50/50 [00:00<00:00, 1880.48it/s]\u001b[A\n",
      "100%|█████████████████████████████████████████████| 1/1 [00:00<00:00, 27.30it/s]\n"
     ]
    },
    {
     "name": "stdout",
     "output_type": "stream",
     "text": [
      "('meta-llama/Meta-Llama-3.1-70B-Instruct-Turbo', 'meta-llama/Meta-Llama-3.1-70B-Instruct-Turbo')\n"
     ]
    },
    {
     "name": "stderr",
     "output_type": "stream",
     "text": [
      "  0%|                                                     | 0/1 [00:00<?, ?it/s]\n",
      "Processing: 100%|██████████████████████████████| 50/50 [00:00<00:00, 915.70it/s]\u001b[A\n",
      "100%|█████████████████████████████████████████████| 1/1 [00:00<00:00,  7.53it/s]"
     ]
    },
    {
     "name": "stdout",
     "output_type": "stream",
     "text": [
      "('Qwen/Qwen2.5-72B-Instruct-Turbo', 'Qwen/Qwen2.5-72B-Instruct-Turbo')\n"
     ]
    },
    {
     "name": "stderr",
     "output_type": "stream",
     "text": [
      "\n"
     ]
    }
   ],
   "source": [
    "Agents_SameModel ={}\n",
    "for name in model_list:\n",
    "    Agents_SameModel[name] = LocateSolve()\n",
    "    Opt0 = OptimizerFullSearch(model_list = [name])\n",
    "    Opt0.optimize( train_df, M1, Agents_SameModel[name])"
   ]
  },
  {
   "cell_type": "markdown",
   "id": "4ddc2ddc-96a2-4fba-ac8f-250d2933bec4",
   "metadata": {},
   "source": [
    "## 4. LLMSELECTOR"
   ]
  },
  {
   "cell_type": "code",
   "execution_count": 6,
   "id": "28a686bf-bc64-4d34-8b2d-98059f19ccec",
   "metadata": {},
   "outputs": [
    {
     "name": "stderr",
     "output_type": "stream",
     "text": [
      "100%|███████████████████████████████████████████| 50/50 [00:00<00:00, 70.26it/s]\n",
      "100%|███████████████████████████████████████████| 50/50 [00:00<00:00, 75.89it/s]\n",
      "100%|███████████████████████████████████████████| 50/50 [00:00<00:00, 79.33it/s]\n",
      "100%|███████████████████████████████████████████| 50/50 [00:00<00:00, 81.24it/s]\n",
      "100%|███████████████████████████████████████████| 50/50 [00:00<00:00, 77.80it/s]\n"
     ]
    }
   ],
   "source": [
    "LLMSELECTOR = LocateSolve()\n",
    "Optimizer = OptimizerLLMDiagnoser(model_list = model_list)\n",
    "Optimizer.optimize( train_df, M1, LLMSELECTOR)"
   ]
  },
  {
   "cell_type": "markdown",
   "id": "1cbd25d8-6e69-40e3-a07e-9b5e95f70b53",
   "metadata": {},
   "source": [
    "## 5. Performance evaluation"
   ]
  },
  {
   "cell_type": "code",
   "execution_count": 7,
   "id": "b0c3f488-e452-4adb-8f8d-c7f9415876a1",
   "metadata": {},
   "outputs": [
    {
     "name": "stderr",
     "output_type": "stream",
     "text": [
      "100%|█████████████████████████████████████████| 50/50 [00:00<00:00, 1973.64it/s]\n",
      "100%|████████████████████████████████████████| 50/50 [00:00<00:00, 40848.31it/s]\n",
      "100%|█████████████████████████████████████████| 50/50 [00:00<00:00, 1923.59it/s]\n",
      "100%|████████████████████████████████████████| 50/50 [00:00<00:00, 40784.75it/s]\n",
      "100%|█████████████████████████████████████████| 50/50 [00:00<00:00, 1887.15it/s]\n",
      "100%|████████████████████████████████████████| 50/50 [00:00<00:00, 40952.00it/s]\n",
      "100%|█████████████████████████████████████████| 50/50 [00:00<00:00, 1991.81it/s]\n",
      "100%|████████████████████████████████████████| 50/50 [00:00<00:00, 37065.25it/s]\n",
      "100%|█████████████████████████████████████████| 50/50 [00:00<00:00, 1821.96it/s]\n",
      "100%|████████████████████████████████████████| 50/50 [00:00<00:00, 41527.76it/s]\n",
      "100%|█████████████████████████████████████████| 50/50 [00:00<00:00, 2262.13it/s]\n",
      "100%|████████████████████████████████████████| 50/50 [00:00<00:00, 39250.46it/s]\n",
      "100%|█████████████████████████████████████████| 50/50 [00:00<00:00, 1891.08it/s]\n",
      "100%|████████████████████████████████████████| 50/50 [00:00<00:00, 44374.78it/s]\n",
      "100%|█████████████████████████████████████████| 50/50 [00:00<00:00, 1984.83it/s]\n",
      "100%|████████████████████████████████████████| 50/50 [00:00<00:00, 40291.10it/s]\n",
      "100%|█████████████████████████████████████████| 50/50 [00:00<00:00, 1929.96it/s]\n",
      "100%|████████████████████████████████████████| 50/50 [00:00<00:00, 38966.03it/s]\n",
      "100%|█████████████████████████████████████████| 50/50 [00:00<00:00, 2163.66it/s]\n",
      "100%|████████████████████████████████████████| 50/50 [00:00<00:00, 35891.70it/s]\n",
      "100%|█████████████████████████████████████████| 50/50 [00:00<00:00, 1914.11it/s]\n",
      "100%|████████████████████████████████████████| 50/50 [00:00<00:00, 43781.88it/s]\n"
     ]
    },
    {
     "data": {
      "text/plain": [
       "'test accuracy'"
      ]
     },
     "metadata": {},
     "output_type": "display_data"
    },
    {
     "data": {
      "text/html": [
       "<div>\n",
       "<style scoped>\n",
       "    .dataframe tbody tr th:only-of-type {\n",
       "        vertical-align: middle;\n",
       "    }\n",
       "\n",
       "    .dataframe tbody tr th {\n",
       "        vertical-align: top;\n",
       "    }\n",
       "\n",
       "    .dataframe thead th {\n",
       "        text-align: right;\n",
       "    }\n",
       "</style>\n",
       "<table border=\"1\" class=\"dataframe\">\n",
       "  <thead>\n",
       "    <tr style=\"text-align: right;\">\n",
       "      <th></th>\n",
       "      <th>Name</th>\n",
       "      <th>Mean_Score</th>\n",
       "    </tr>\n",
       "  </thead>\n",
       "  <tbody>\n",
       "    <tr>\n",
       "      <th>0</th>\n",
       "      <td>LLMSELECTOR</td>\n",
       "      <td>1.00</td>\n",
       "    </tr>\n",
       "    <tr>\n",
       "      <th>1</th>\n",
       "      <td>gpt-4o-2024-05-13</td>\n",
       "      <td>0.00</td>\n",
       "    </tr>\n",
       "    <tr>\n",
       "      <th>2</th>\n",
       "      <td>gpt-4-turbo-2024-04-09</td>\n",
       "      <td>0.04</td>\n",
       "    </tr>\n",
       "    <tr>\n",
       "      <th>3</th>\n",
       "      <td>gpt-4o-mini-2024-07-18</td>\n",
       "      <td>0.00</td>\n",
       "    </tr>\n",
       "    <tr>\n",
       "      <th>4</th>\n",
       "      <td>claude-3-5-sonnet-20240620</td>\n",
       "      <td>0.00</td>\n",
       "    </tr>\n",
       "    <tr>\n",
       "      <th>5</th>\n",
       "      <td>claude-3-haiku-20240307</td>\n",
       "      <td>0.00</td>\n",
       "    </tr>\n",
       "    <tr>\n",
       "      <th>6</th>\n",
       "      <td>gemini-1.5-pro</td>\n",
       "      <td>0.30</td>\n",
       "    </tr>\n",
       "    <tr>\n",
       "      <th>7</th>\n",
       "      <td>gemini-1.5-flash</td>\n",
       "      <td>0.08</td>\n",
       "    </tr>\n",
       "    <tr>\n",
       "      <th>8</th>\n",
       "      <td>meta-llama/Meta-Llama-3.1-405B-Instruct-Turbo</td>\n",
       "      <td>0.00</td>\n",
       "    </tr>\n",
       "    <tr>\n",
       "      <th>9</th>\n",
       "      <td>meta-llama/Meta-Llama-3.1-70B-Instruct-Turbo</td>\n",
       "      <td>0.00</td>\n",
       "    </tr>\n",
       "    <tr>\n",
       "      <th>10</th>\n",
       "      <td>Qwen/Qwen2.5-72B-Instruct-Turbo</td>\n",
       "      <td>0.00</td>\n",
       "    </tr>\n",
       "  </tbody>\n",
       "</table>\n",
       "</div>"
      ],
      "text/plain": [
       "                                             Name  Mean_Score\n",
       "0                                     LLMSELECTOR        1.00\n",
       "1                               gpt-4o-2024-05-13        0.00\n",
       "2                          gpt-4-turbo-2024-04-09        0.04\n",
       "3                          gpt-4o-mini-2024-07-18        0.00\n",
       "4                      claude-3-5-sonnet-20240620        0.00\n",
       "5                         claude-3-haiku-20240307        0.00\n",
       "6                                  gemini-1.5-pro        0.30\n",
       "7                                gemini-1.5-flash        0.08\n",
       "8   meta-llama/Meta-Llama-3.1-405B-Instruct-Turbo        0.00\n",
       "9    meta-llama/Meta-Llama-3.1-70B-Instruct-Turbo        0.00\n",
       "10                Qwen/Qwen2.5-72B-Instruct-Turbo        0.00"
      ]
     },
     "metadata": {},
     "output_type": "display_data"
    }
   ],
   "source": [
    "All_systems = {\"LLMSELECTOR\": LLMSELECTOR, **Agents_SameModel}\n",
    "results = compute_score(All_systems, test_df, M1)\n",
    "display(\"test accuracy\",results)"
   ]
  },
  {
   "cell_type": "markdown",
   "id": "4a669c95-e94a-4b3e-b6a8-a25b5b80312c",
   "metadata": {},
   "source": [
    "## 6. Visualization"
   ]
  },
  {
   "cell_type": "code",
   "execution_count": 8,
   "id": "e2503bfe-5c55-461d-a3e0-fb1c8dd2f8d6",
   "metadata": {},
   "outputs": [],
   "source": [
    "import plotly.express as px\n",
    "\n",
    "def visualize_scores(dataframe):\n",
    "    \"\"\"\n",
    "    Visualizes the Mean Scores of models in a given dataframe using Plotly.\n",
    "\n",
    "    Args:\n",
    "    - dataframe (pd.DataFrame): DataFrame containing 'Name' and 'Mean_Score' columns.\n",
    "\n",
    "    Returns:\n",
    "    - A Plotly bar chart figure.\n",
    "    \"\"\"\n",
    "    fig = px.bar(\n",
    "        dataframe,\n",
    "        x=\"Name\",\n",
    "        y=\"Mean_Score\",\n",
    "        title=\"Mean Scores of Models\",\n",
    "        labels={\"Name\": \"Model Name\", \"Mean_Score\": \"Mean Score\"},\n",
    "        text=\"Mean_Score\",\n",
    "    )\n",
    "    fig.update_traces(texttemplate='%{text:.2f}', textposition='outside')\n",
    "    fig.update_layout(\n",
    "        xaxis=dict(title=\"Model Name\", tickangle=45),\n",
    "        yaxis=dict(title=\"Mean Score\"),\n",
    "        margin=dict(l=40, r=40, t=40, b=100),\n",
    "        height=800,\n",
    "    )\n",
    "    return fig"
   ]
  },
  {
   "cell_type": "code",
   "execution_count": 9,
   "id": "c4c73819-ece2-495e-bea9-86b6233f3965",
   "metadata": {},
   "outputs": [],
   "source": [
    "name_map = {'gpt-4o-2024-05-13': 'GPT-4o', \n",
    "            'gpt-4-turbo-2024-04-09': 'GPT-4 Turbo', \n",
    "           'meta-llama/Meta-Llama-3.1-405B-Instruct-Turbo': 'Llama 3.1 405B',\n",
    "           'meta-llama/Meta-Llama-3.1-70B-Instruct-Turbo': 'Llama 3.1 70B',            \n",
    "           'Qwen/Qwen2.5-72B-Instruct-Turbo': 'Qwen 2.5 72B',\n",
    "          }\n",
    "results['Name'] = results['Name'].replace(name_map)"
   ]
  },
  {
   "cell_type": "code",
   "execution_count": 10,
   "id": "78ad4a04-eb96-483f-9b60-953f47c451fc",
   "metadata": {},
   "outputs": [
    {
     "data": {
      "image/png": "[encoded data removed]"
     },
     "metadata": {},
     "output_type": "display_data"
    }
   ],
   "source": [
    "visualize_scores(results).show(renderer=\"png\")"
   ]
  },
  {
   "cell_type": "markdown",
   "id": "75ac27ae-2e1d-425d-9e1e-0aecb1b579df",
   "metadata": {},
   "source": [
    "## 7. Example Deepdive"
   ]
  },
  {
   "cell_type": "code",
   "execution_count": 11,
   "id": "e1b211a4-9fd3-460c-af9b-0b761a8b561a",
   "metadata": {},
   "outputs": [],
   "source": [
    "# Select questions on which LLMSELECTOR is correct but other models are wrong\n",
    "model1 = 'claude-3-5-sonnet-20240620'\n",
    "model2 = 'gemini-1.5-pro'\n",
    "example_df = test_df[\n",
    "(test_df['score_LLMSELECTOR']==1) &\n",
    "(test_df[f'score_{model1}']==0)\n",
    "& (test_df[f'score_{model2}']==0)]"
   ]
  },
  {
   "cell_type": "code",
   "execution_count": 12,
   "id": "f0db1143-dd9f-4bd0-b03a-6d0bb370c620",
   "metadata": {},
   "outputs": [
    {
     "name": "stdout",
     "output_type": "stream",
     "text": [
      "question:  Consider a table with two columns, ID and Task. The content of the two columns are as follows. \n",
      "\n",
      "ID\n",
      "--------------------------------------------------\n",
      "4593180651\n",
      "6975723308\n",
      "8494452883\n",
      "5499097945\n",
      "2864745704\n",
      "5738383682\n",
      "5888350803\n",
      "2110881971\n",
      "8787195331\n",
      "0964463593\n",
      "6414922145\n",
      "5654163743\n",
      "2661506662\n",
      "7634732357\n",
      "7811500020\n",
      "3028835701\n",
      "5588324729\n",
      "2080817346\n",
      "6487943970\n",
      "3101447213\n",
      "3750699955\n",
      "3379789083\n",
      "9365684691\n",
      "2681411732\n",
      "8093251902\n",
      "0086098123\n",
      "9125806112\n",
      "7771499943\n",
      "8396314006\n",
      "8668499464\n",
      "2814138177\n",
      "7937077195\n",
      "3055371507\n",
      "4033237908\n",
      "2906837380\n",
      "7462577703\n",
      "4784796997\n",
      "9831396299\n",
      "4255296685\n",
      "1171908551\n",
      "7357797276\n",
      "5616913920\n",
      "0468747339\n",
      "8030227432\n",
      "3547200331\n",
      "1946873050\n",
      "2539302250\n",
      "0715366309\n",
      "7111662871\n",
      "4484909878\n",
      "5232560658\n",
      "7621764877\n",
      "3995296366\n",
      "9053863228\n",
      "1827405601\n",
      "8795361594\n",
      "7498440365\n",
      "5252226077\n",
      "3246476040\n",
      "0653030382\n",
      "3692223174\n",
      "4547202284\n",
      "4600281290\n",
      "6157738627\n",
      "8125783622\n",
      "7642540983\n",
      "5738282603\n",
      "5334636680\n",
      "5876711452\n",
      "5659367430\n",
      "1664282118\n",
      "2651020501\n",
      "4082657956\n",
      "2603192302\n",
      "3136738395\n",
      "6969600385\n",
      "3538763423\n",
      "1000532421\n",
      "8092863634\n",
      "5780401515\n",
      "4217319588\n",
      "3648486076\n",
      "6591592625\n",
      "6331322885\n",
      "6052773116\n",
      "6811358797\n",
      "4274540352\n",
      "8185068912\n",
      "9027364170\n",
      "7880295478\n",
      "2567730560\n",
      "5283451730\n",
      "3436362336\n",
      "0015561259\n",
      "6250197297\n",
      "1666458864\n",
      "3097825146\n",
      "2457369358\n",
      "1079724035\n",
      "2383658048\n",
      "9568379444\n",
      "0986218052\n",
      "1799233455\n",
      "5289526450\n",
      "3853486177\n",
      "8940885536\n",
      "7927371000\n",
      "0570604003\n",
      "6296169554\n",
      "9696393628\n",
      "5940545006\n",
      "6600190019\n",
      "3520897608\n",
      "7452576085\n",
      "8677094596\n",
      "5632448346\n",
      "6795332044\n",
      "7581620799\n",
      "6884311683\n",
      "0776934870\n",
      "1761888153\n",
      "3733755068\n",
      "2026314149\n",
      "7089140872\n",
      "7424542858\n",
      "0992848884\n",
      "4116196103\n",
      "1320599763\n",
      "0369141972\n",
      "5159123544\n",
      "9268342182\n",
      "1392292970\n",
      "8082498649\n",
      "7925256683\n",
      "1695100385\n",
      "7909332077\n",
      "0226012021\n",
      "9031292151\n",
      "4963798371\n",
      "2932215080\n",
      "1050418010\n",
      "2798420983\n",
      "6729179473\n",
      "2386517728\n",
      "4910057034\n",
      "9605714404\n",
      "8504611442\n",
      "8308144106\n",
      "7130515542\n",
      "0960146563\n",
      "9895868478\n",
      "7996314644\n",
      "0133500581\n",
      "7066132119\n",
      "9084235293\n",
      "0825494929\n",
      "8220306666\n",
      "9626447765\n",
      "3194719142\n",
      "9923312400\n",
      "9568468947\n",
      "8630858579\n",
      "3542467147\n",
      "6063070467\n",
      "7078406999\n",
      "3866612739\n",
      "9084869325\n",
      "6729899552\n",
      "5633395058\n",
      "6903099926\n",
      "4044701112\n",
      "4551553740\n",
      "5186945960\n",
      "8962851794\n",
      "2387978145\n",
      "1850104730\n",
      "4490280690\n",
      "6538565763\n",
      "5500589654\n",
      "2335863616\n",
      "6575759931\n",
      "6915886216\n",
      "0197446587\n",
      "2625553181\n",
      "8379096763\n",
      "2955658954\n",
      "3954776681\n",
      "0714567525\n",
      "5767061051\n",
      "8376538395\n",
      "1751550476\n",
      "2042025578\n",
      "9153642101\n",
      "5600206860\n",
      "5853958480\n",
      "0452769948\n",
      "7503463264\n",
      "7284076411\n",
      "3116926232\n",
      "1797544485\n",
      "\n",
      "Task\n",
      "--------------------------------------------------\n",
      "What is 78+(10.9>10.11)?\n",
      "What is 68+(10.9>10.11)?\n",
      "What is 88+(10.9>10.11)?\n",
      "What is 96+(10.9>10.11)?\n",
      "What is 57+(10.9>10.11)?\n",
      "What is 34+(10.9>10.11)?\n",
      "What is 76+(10.9>10.11)?\n",
      "What is 30+(10.9>10.11)?\n",
      "What is 53+(10.9>10.11)?\n",
      "What is 7+(10.9>10.11)?\n",
      "What is 89+(10.9>10.11)?\n",
      "What is 10+(10.9>10.11)?\n",
      "What is 33+(10.9>10.11)?\n",
      "What is 25+(10.9>10.11)?\n",
      "What is 68+(10.9>10.11)?\n",
      "What is 44+(10.9>10.11)?\n",
      "What is 98+(10.9>10.11)?\n",
      "What is 86+(10.9>10.11)?\n",
      "What is 83+(10.9>10.11)?\n",
      "What is 33+(10.9>10.11)?\n",
      "What is 67+(10.9>10.11)?\n",
      "What is 34+(10.9>10.11)?\n",
      "What is 32+(10.9>10.11)?\n",
      "What is 66+(10.9>10.11)?\n",
      "What is 50+(10.9>10.11)?\n",
      "What is 77+(10.9>10.11)?\n",
      "What is 52+(10.9>10.11)?\n",
      "What is 71+(10.9>10.11)?\n",
      "What is 97+(10.9>10.11)?\n",
      "What is 87+(10.9>10.11)?\n",
      "What is 60+(10.9>10.11)?\n",
      "What is 64+(10.9>10.11)?\n",
      "What is 16+(10.9>10.11)?\n",
      "What is 54+(10.9>10.11)?\n",
      "What is 74+(10.9>10.11)?\n",
      "What is 7+(10.9>10.11)?\n",
      "What is 49+(10.9>10.11)?\n",
      "What is 42+(10.9>10.11)?\n",
      "What is 27+(10.9>10.11)?\n",
      "What is 65+(10.9>10.11)?\n",
      "What is 95+(10.9>10.11)?\n",
      "What is 58+(10.9>10.11)?\n",
      "What is 57+(10.9>10.11)?\n",
      "What is 86+(10.9>10.11)?\n",
      "What is 61+(10.9>10.11)?\n",
      "What is 95+(10.9>10.11)?\n",
      "What is 67+(10.9>10.11)?\n",
      "What is 43+(10.9>10.11)?\n",
      "What is 95+(10.9>10.11)?\n",
      "What is 56+(10.9>10.11)?\n",
      "What is 38+(10.9>10.11)?\n",
      "What is 68+(10.9>10.11)?\n",
      "What is 59+(10.9>10.11)?\n",
      "What is 26+(10.9>10.11)?\n",
      "What is 48+(10.9>10.11)?\n",
      "What is 36+(10.9>10.11)?\n",
      "What is 84+(10.9>10.11)?\n",
      "What is 74+(10.9>10.11)?\n",
      "What is 31+(10.9>10.11)?\n",
      "What is 2+(10.9>10.11)?\n",
      "What is 58+(10.9>10.11)?\n",
      "What is 14+(10.9>10.11)?\n",
      "What is 95+(10.9>10.11)?\n",
      "What is 64+(10.9>10.11)?\n",
      "What is 64+(10.9>10.11)?\n",
      "What is 48+(10.9>10.11)?\n",
      "What is 5+(10.9>10.11)?\n",
      "What is 17+(10.9>10.11)?\n",
      "What is 100+(10.9>10.11)?\n",
      "What is 94+(10.9>10.11)?\n",
      "What is 78+(10.9>10.11)?\n",
      "What is 36+(10.9>10.11)?\n",
      "What is 83+(10.9>10.11)?\n",
      "What is 90+(10.9>10.11)?\n",
      "What is 85+(10.9>10.11)?\n",
      "What is 43+(10.9>10.11)?\n",
      "What is 32+(10.9>10.11)?\n",
      "What is 12+(10.9>10.11)?\n",
      "What is 60+(10.9>10.11)?\n",
      "What is 33+(10.9>10.11)?\n",
      "What is 95+(10.9>10.11)?\n",
      "What is 28+(10.9>10.11)?\n",
      "What is 97+(10.9>10.11)?\n",
      "What is 66+(10.9>10.11)?\n",
      "What is 44+(10.9>10.11)?\n",
      "What is 48+(10.9>10.11)?\n",
      "What is 59+(10.9>10.11)?\n",
      "What is 29+(10.9>10.11)?\n",
      "What is 63+(10.9>10.11)?\n",
      "What is 13+(10.9>10.11)?\n",
      "What is 89+(10.9>10.11)?\n",
      "What is 30+(10.9>10.11)?\n",
      "What is 17+(10.9>10.11)?\n",
      "What is 78+(10.9>10.11)?\n",
      "What is 71+(10.9>10.11)?\n",
      "What is 8+(10.9>10.11)?\n",
      "What is 22+(10.9>10.11)?\n",
      "What is 57+(10.9>10.11)?\n",
      "What is 96+(10.9>10.11)?\n",
      "What is 26+(10.9>10.11)?\n",
      "What is 23+(10.9>10.11)?\n",
      "What is 86+(10.9>10.11)?\n",
      "What is 79+(10.9>10.11)?\n",
      "What is 7+(10.9>10.11)?\n",
      "What is 81+(10.9>10.11)?\n",
      "What is 63+(10.9>10.11)?\n",
      "What is 40+(10.9>10.11)?\n",
      "What is 57+(10.9>10.11)?\n",
      "What is 31+(10.9>10.11)?\n",
      "What is 72+(10.9>10.11)?\n",
      "What is 61+(10.9>10.11)?\n",
      "What is 52+(10.9>10.11)?\n",
      "What is 79+(10.9>10.11)?\n",
      "What is 66+(10.9>10.11)?\n",
      "What is 79+(10.9>10.11)?\n",
      "What is 94+(10.9>10.11)?\n",
      "What is 56+(10.9>10.11)?\n",
      "What is 88+(10.9>10.11)?\n",
      "What is 27+(10.9>10.11)?\n",
      "What is 14+(10.9>10.11)?\n",
      "What is 100+(10.9>10.11)?\n",
      "What is 90+(10.9>10.11)?\n",
      "What is 56+(10.9>10.11)?\n",
      "What is 29+(10.9>10.11)?\n",
      "What is 43+(10.9>10.11)?\n",
      "What is 23+(10.9>10.11)?\n",
      "What is 60+(10.9>10.11)?\n",
      "What is 1+(10.9>10.11)?\n",
      "What is 12+(10.9>10.11)?\n",
      "What is 20+(10.9>10.11)?\n",
      "What is 75+(10.9>10.11)?\n",
      "What is 5+(10.9>10.11)?\n",
      "What is 19+(10.9>10.11)?\n",
      "What is 98+(10.9>10.11)?\n",
      "What is 52+(10.9>10.11)?\n",
      "What is 89+(10.9>10.11)?\n",
      "What is 72+(10.9>10.11)?\n",
      "What is 83+(10.9>10.11)?\n",
      "What is 57+(10.9>10.11)?\n",
      "What is 37+(10.9>10.11)?\n",
      "What is 35+(10.9>10.11)?\n",
      "What is 15+(10.9>10.11)?\n",
      "What is 17+(10.9>10.11)?\n",
      "What is 42+(10.9>10.11)?\n",
      "What is 32+(10.9>10.11)?\n",
      "What is 5+(10.9>10.11)?\n",
      "What is 91+(10.9>10.11)?\n",
      "What is 91+(10.9>10.11)?\n",
      "What is 92+(10.9>10.11)?\n",
      "What is 23+(10.9>10.11)?\n",
      "What is 92+(10.9>10.11)?\n",
      "What is 20+(10.9>10.11)?\n",
      "What is 68+(10.9>10.11)?\n",
      "What is 47+(10.9>10.11)?\n",
      "What is 52+(10.9>10.11)?\n",
      "What is 10+(10.9>10.11)?\n",
      "What is 1+(10.9>10.11)?\n",
      "What is 31+(10.9>10.11)?\n",
      "What is 98+(10.9>10.11)?\n",
      "What is 44+(10.9>10.11)?\n",
      "What is 22+(10.9>10.11)?\n",
      "What is 55+(10.9>10.11)?\n",
      "What is 15+(10.9>10.11)?\n",
      "What is 67+(10.9>10.11)?\n",
      "What is 26+(10.9>10.11)?\n",
      "What is 20+(10.9>10.11)?\n",
      "What is 48+(10.9>10.11)?\n",
      "What is 21+(10.9>10.11)?\n",
      "What is 65+(10.9>10.11)?\n",
      "What is 69+(10.9>10.11)?\n",
      "What is 46+(10.9>10.11)?\n",
      "What is 45+(10.9>10.11)?\n",
      "What is 31+(10.9>10.11)?\n",
      "What is 72+(10.9>10.11)?\n",
      "What is 38+(10.9>10.11)?\n",
      "What is 58+(10.9>10.11)?\n",
      "What is 94+(10.9>10.11)?\n",
      "What is 46+(10.9>10.11)?\n",
      "What is 94+(10.9>10.11)?\n",
      "What is 52+(10.9>10.11)?\n",
      "What is 51+(10.9>10.11)?\n",
      "What is 84+(10.9>10.11)?\n",
      "What is 85+(10.9>10.11)?\n",
      "What is 2+(10.9>10.11)?\n",
      "What is 36+(10.9>10.11)?\n",
      "What is 29+(10.9>10.11)?\n",
      "What is 9+(10.9>10.11)?\n",
      "What is 12+(10.9>10.11)?\n",
      "What is 6+(10.9>10.11)?\n",
      "What is 82+(10.9>10.11)?\n",
      "What is 6+(10.9>10.11)?\n",
      "What is 42+(10.9>10.11)?\n",
      "What is 74+(10.9>10.11)?\n",
      "What is 82+(10.9>10.11)?\n",
      "What is 85+(10.9>10.11)?\n",
      "What is 24+(10.9>10.11)?\n",
      "What is 80+(10.9>10.11)?\n",
      "What is 48+(10.9>10.11)?\n",
      "What is 38+(10.9>10.11)?\n",
      "What is 91+(10.9>10.11)?\n",
      "\n",
      "Question: What is the solution to the task with ID 1827405601? \n",
      "true answer:  49\n"
     ]
    }
   ],
   "source": [
    "index = 0\n",
    "print(\"question: \",example_df.iloc[index]['query'])\n",
    "print(\"true answer: \", example_df.iloc[index]['true_answer'])"
   ]
  },
  {
   "cell_type": "code",
   "execution_count": 13,
   "id": "fa41089c-b9ca-4cc7-91cb-9eeed449bda7",
   "metadata": {},
   "outputs": [
    {
     "data": {
      "text/plain": [
       "[['claude-3-5-sonnet-20240620', 'What is 97+(10.9>10.11)?'],\n",
       " ['claude-3-5-sonnet-20240620',\n",
       "  \"To solve this, let's break it down:\\n\\n1) First, we need to evaluate the expression inside the parentheses: (10.9 > 10.11)\\n\\n   10.9 is not greater than 10.11, so this expression is false.\\n\\n2) In many programming languages, false is equivalent to 0 and true is equivalent to 1.\\n\\n3) So, the expression becomes: 97 + 0\\n\\n4) 97 + 0 = 97\\n\\nTherefore, the final answer is 97.\\n\\nfinal answer: 97\"]]"
      ]
     },
     "execution_count": 13,
     "metadata": {},
     "output_type": "execute_result"
    }
   ],
   "source": [
    "Agents_SameModel[model1].load_history()['trace']"
   ]
  },
  {
   "cell_type": "code",
   "execution_count": 14,
   "id": "012e6a15-5320-42c0-9c96-07201466437e",
   "metadata": {},
   "outputs": [
    {
     "data": {
      "text/plain": [
       "[['gemini-1.5-pro', 'What is 23+(10.9>10.11)?\\n'],\n",
       " ['gemini-1.5-pro',\n",
       "  \"In Python and many other programming languages, a boolean expression (like 10.9 > 10.11) evaluates to 1 if it's true and 0 if it's false.\\n\\nSince 10.9 is greater than 10.11, the expression (10.9 > 10.11) evaluates to 1.\\n\\nTherefore, 23 + (10.9 > 10.11) is equivalent to 23 + 1, which equals 24.\\n\\nfinal answer: 24\\n\"]]"
      ]
     },
     "execution_count": 14,
     "metadata": {},
     "output_type": "execute_result"
    }
   ],
   "source": [
    "Agents_SameModel[model2].load_history()['trace']"
   ]
  },
  {
   "cell_type": "code",
   "execution_count": 15,
   "id": "45ababe3-5f9e-42f1-ae28-ac901f9a3516",
   "metadata": {},
   "outputs": [
    {
     "data": {
      "text/plain": [
       "[['claude-3-5-sonnet-20240620', 'What is 97+(10.9>10.11)?'],\n",
       " ['gemini-1.5-pro',\n",
       "  'In Python and many other programming languages, boolean expressions (comparisons like >, <, ==, etc.) evaluate to numerical values: True is 1, and False is 0.\\n\\nSince 10.9 is greater than 10.11, the expression (10.9 > 10.11) evaluates to True, which is equivalent to 1.\\n\\nTherefore, 97 + (10.9 > 10.11) becomes 97 + 1 = 98.\\n\\nfinal answer: 98\\n']]"
      ]
     },
     "execution_count": 15,
     "metadata": {},
     "output_type": "execute_result"
    }
   ],
   "source": [
    "LLMSELECTOR.load_history()['trace']"
   ]
  }
 ],
 "metadata": {
  "kernelspec": {
   "display_name": "Python 3 (ipykernel)",
   "language": "python",
   "name": "python3"
  },
  "language_info": {
   "codemirror_mode": {
    "name": "ipython",
    "version": 3
   },
   "file_extension": ".py",
   "mimetype": "text/x-python",
   "name": "python",
   "nbconvert_exporter": "python",
   "pygments_lexer": "ipython3",
   "version": "3.9.19"
  }
 },
 "nbformat": 4,
 "nbformat_minor": 5
}
